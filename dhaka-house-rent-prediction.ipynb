{
 "cells": [
  {
   "cell_type": "code",
   "execution_count": 1,
   "id": "fac8dbc5",
   "metadata": {
    "execution": {
     "iopub.execute_input": "2022-08-05T12:47:37.709872Z",
     "iopub.status.busy": "2022-08-05T12:47:37.708687Z",
     "iopub.status.idle": "2022-08-05T12:47:38.766669Z",
     "shell.execute_reply": "2022-08-05T12:47:38.765372Z"
    },
    "id": "By9gLOz9FsDm",
    "papermill": {
     "duration": 1.078902,
     "end_time": "2022-08-05T12:47:38.769700",
     "exception": false,
     "start_time": "2022-08-05T12:47:37.690798",
     "status": "completed"
    },
    "tags": []
   },
   "outputs": [],
   "source": [
    "import pandas as pd\n",
    "import numpy as np\n",
    "from decimal import Decimal\n",
    "from matplotlib import pyplot as plt\n",
    "%matplotlib inline\n",
    "import matplotlib \n",
    "matplotlib.rcParams[\"figure.figsize\"] = (20,10)\n",
    "from sklearn.model_selection import ShuffleSplit\n",
    "from sklearn.model_selection import cross_val_score\n",
    "from sklearn.linear_model import LinearRegression\n",
    "from sklearn.model_selection import train_test_split"
   ]
  },
  {
   "cell_type": "code",
   "execution_count": 2,
   "id": "bafb9f73",
   "metadata": {
    "execution": {
     "iopub.execute_input": "2022-08-05T12:47:38.800887Z",
     "iopub.status.busy": "2022-08-05T12:47:38.800457Z",
     "iopub.status.idle": "2022-08-05T12:47:38.813310Z",
     "shell.execute_reply": "2022-08-05T12:47:38.812561Z"
    },
    "papermill": {
     "duration": 0.031078,
     "end_time": "2022-08-05T12:47:38.815605",
     "exception": false,
     "start_time": "2022-08-05T12:47:38.784527",
     "status": "completed"
    },
    "tags": []
   },
   "outputs": [
    {
     "name": "stdout",
     "output_type": "stream",
     "text": [
      "/kaggle/input/house-rent-in-dhaka-city/houserentdhaka.csv\n"
     ]
    }
   ],
   "source": [
    "import os\n",
    "for dirname, _, filenames in os.walk('/kaggle/input'):\n",
    "    for filename in filenames:\n",
    "        print(os.path.join(dirname, filename))"
   ]
  },
  {
   "cell_type": "code",
   "execution_count": null,
   "id": "a7fc3415",
   "metadata": {
    "papermill": {
     "duration": 0.014279,
     "end_time": "2022-08-05T12:47:38.846557",
     "exception": false,
     "start_time": "2022-08-05T12:47:38.832278",
     "status": "completed"
    },
    "tags": []
   },
   "outputs": [],
   "source": []
  },
  {
   "cell_type": "code",
   "execution_count": 3,
   "id": "b84fbf4f",
   "metadata": {
    "execution": {
     "iopub.execute_input": "2022-08-05T12:47:38.877947Z",
     "iopub.status.busy": "2022-08-05T12:47:38.876971Z",
     "iopub.status.idle": "2022-08-05T12:47:38.951172Z",
     "shell.execute_reply": "2022-08-05T12:47:38.950346Z"
    },
    "id": "qcL-XKkRFsDs",
    "outputId": "1dc07feb-b98c-4538-d338-de30874056b0",
    "papermill": {
     "duration": 0.092145,
     "end_time": "2022-08-05T12:47:38.953395",
     "exception": false,
     "start_time": "2022-08-05T12:47:38.861250",
     "status": "completed"
    },
    "tags": []
   },
   "outputs": [
    {
     "data": {
      "text/html": [
       "<div>\n",
       "<style scoped>\n",
       "    .dataframe tbody tr th:only-of-type {\n",
       "        vertical-align: middle;\n",
       "    }\n",
       "\n",
       "    .dataframe tbody tr th {\n",
       "        vertical-align: top;\n",
       "    }\n",
       "\n",
       "    .dataframe thead th {\n",
       "        text-align: right;\n",
       "    }\n",
       "</style>\n",
       "<table border=\"1\" class=\"dataframe\">\n",
       "  <thead>\n",
       "    <tr style=\"text-align: right;\">\n",
       "      <th></th>\n",
       "      <th>Unnamed: 0</th>\n",
       "      <th>Location</th>\n",
       "      <th>Area</th>\n",
       "      <th>Bed</th>\n",
       "      <th>Bath</th>\n",
       "      <th>Price</th>\n",
       "    </tr>\n",
       "  </thead>\n",
       "  <tbody>\n",
       "    <tr>\n",
       "      <th>0</th>\n",
       "      <td>0</td>\n",
       "      <td>Block H, Bashundhara R-A, Dhaka</td>\n",
       "      <td>1,600 sqft</td>\n",
       "      <td>3</td>\n",
       "      <td>3</td>\n",
       "      <td>20 Thousand</td>\n",
       "    </tr>\n",
       "    <tr>\n",
       "      <th>1</th>\n",
       "      <td>1</td>\n",
       "      <td>Farmgate, Tejgaon, Dhaka</td>\n",
       "      <td>900 sqft</td>\n",
       "      <td>2</td>\n",
       "      <td>2</td>\n",
       "      <td>20 Thousand</td>\n",
       "    </tr>\n",
       "    <tr>\n",
       "      <th>2</th>\n",
       "      <td>2</td>\n",
       "      <td>Block B, Nobodoy Housing Society, Mohammadpur,...</td>\n",
       "      <td>1,250 sqft</td>\n",
       "      <td>3</td>\n",
       "      <td>3</td>\n",
       "      <td>18 Thousand</td>\n",
       "    </tr>\n",
       "    <tr>\n",
       "      <th>3</th>\n",
       "      <td>3</td>\n",
       "      <td>Gulshan 1, Gulshan, Dhaka</td>\n",
       "      <td>2,200 sqft</td>\n",
       "      <td>3</td>\n",
       "      <td>4</td>\n",
       "      <td>75 Thousand</td>\n",
       "    </tr>\n",
       "    <tr>\n",
       "      <th>4</th>\n",
       "      <td>4</td>\n",
       "      <td>Baridhara, Dhaka</td>\n",
       "      <td>2,200 sqft</td>\n",
       "      <td>3</td>\n",
       "      <td>3</td>\n",
       "      <td>75 Thousand</td>\n",
       "    </tr>\n",
       "  </tbody>\n",
       "</table>\n",
       "</div>"
      ],
      "text/plain": [
       "   Unnamed: 0                                           Location        Area  \\\n",
       "0           0                    Block H, Bashundhara R-A, Dhaka  1,600 sqft   \n",
       "1           1                           Farmgate, Tejgaon, Dhaka    900 sqft   \n",
       "2           2  Block B, Nobodoy Housing Society, Mohammadpur,...  1,250 sqft   \n",
       "3           3                          Gulshan 1, Gulshan, Dhaka  2,200 sqft   \n",
       "4           4                                   Baridhara, Dhaka  2,200 sqft   \n",
       "\n",
       "   Bed  Bath        Price  \n",
       "0    3     3  20 Thousand  \n",
       "1    2     2  20 Thousand  \n",
       "2    3     3  18 Thousand  \n",
       "3    3     4  75 Thousand  \n",
       "4    3     3  75 Thousand  "
      ]
     },
     "execution_count": 3,
     "metadata": {},
     "output_type": "execute_result"
    }
   ],
   "source": [
    "df = pd.read_csv(\"/kaggle/input/house-rent-in-dhaka-city/houserentdhaka.csv\")\n",
    "df.head()"
   ]
  },
  {
   "cell_type": "code",
   "execution_count": 4,
   "id": "cd01eabc",
   "metadata": {
    "execution": {
     "iopub.execute_input": "2022-08-05T12:47:38.991180Z",
     "iopub.status.busy": "2022-08-05T12:47:38.990291Z",
     "iopub.status.idle": "2022-08-05T12:47:38.999937Z",
     "shell.execute_reply": "2022-08-05T12:47:38.998922Z"
    },
    "id": "gD4mWrYmFsDt",
    "outputId": "d2980fce-7b87-46b9-e377-88e4504f3109",
    "papermill": {
     "duration": 0.031818,
     "end_time": "2022-08-05T12:47:39.002677",
     "exception": false,
     "start_time": "2022-08-05T12:47:38.970859",
     "status": "completed"
    },
    "tags": []
   },
   "outputs": [
    {
     "data": {
      "text/plain": [
       "(28800, 6)"
      ]
     },
     "execution_count": 4,
     "metadata": {},
     "output_type": "execute_result"
    }
   ],
   "source": [
    "df.shape"
   ]
  },
  {
   "cell_type": "code",
   "execution_count": 5,
   "id": "ba701faa",
   "metadata": {
    "execution": {
     "iopub.execute_input": "2022-08-05T12:47:39.046490Z",
     "iopub.status.busy": "2022-08-05T12:47:39.045418Z",
     "iopub.status.idle": "2022-08-05T12:47:39.056322Z",
     "shell.execute_reply": "2022-08-05T12:47:39.055147Z"
    },
    "id": "S0mMq4G3FsDu",
    "papermill": {
     "duration": 0.032905,
     "end_time": "2022-08-05T12:47:39.059623",
     "exception": false,
     "start_time": "2022-08-05T12:47:39.026718",
     "status": "completed"
    },
    "tags": []
   },
   "outputs": [],
   "source": [
    "#removing the unnamed column\n",
    "df = df.loc[:, ~df.columns.str.contains('^Unnamed')]"
   ]
  },
  {
   "cell_type": "code",
   "execution_count": 6,
   "id": "7cf6f664",
   "metadata": {
    "execution": {
     "iopub.execute_input": "2022-08-05T12:47:39.097622Z",
     "iopub.status.busy": "2022-08-05T12:47:39.096842Z",
     "iopub.status.idle": "2022-08-05T12:47:39.109205Z",
     "shell.execute_reply": "2022-08-05T12:47:39.107889Z"
    },
    "id": "WNUl1tBPFsDv",
    "outputId": "4a85e01f-c91d-42b8-8ffe-73346bd19007",
    "papermill": {
     "duration": 0.031939,
     "end_time": "2022-08-05T12:47:39.111724",
     "exception": false,
     "start_time": "2022-08-05T12:47:39.079785",
     "status": "completed"
    },
    "tags": []
   },
   "outputs": [
    {
     "data": {
      "text/html": [
       "<div>\n",
       "<style scoped>\n",
       "    .dataframe tbody tr th:only-of-type {\n",
       "        vertical-align: middle;\n",
       "    }\n",
       "\n",
       "    .dataframe tbody tr th {\n",
       "        vertical-align: top;\n",
       "    }\n",
       "\n",
       "    .dataframe thead th {\n",
       "        text-align: right;\n",
       "    }\n",
       "</style>\n",
       "<table border=\"1\" class=\"dataframe\">\n",
       "  <thead>\n",
       "    <tr style=\"text-align: right;\">\n",
       "      <th></th>\n",
       "      <th>Location</th>\n",
       "      <th>Area</th>\n",
       "      <th>Bed</th>\n",
       "      <th>Bath</th>\n",
       "      <th>Price</th>\n",
       "    </tr>\n",
       "  </thead>\n",
       "  <tbody>\n",
       "    <tr>\n",
       "      <th>0</th>\n",
       "      <td>Block H, Bashundhara R-A, Dhaka</td>\n",
       "      <td>1,600 sqft</td>\n",
       "      <td>3</td>\n",
       "      <td>3</td>\n",
       "      <td>20 Thousand</td>\n",
       "    </tr>\n",
       "    <tr>\n",
       "      <th>1</th>\n",
       "      <td>Farmgate, Tejgaon, Dhaka</td>\n",
       "      <td>900 sqft</td>\n",
       "      <td>2</td>\n",
       "      <td>2</td>\n",
       "      <td>20 Thousand</td>\n",
       "    </tr>\n",
       "    <tr>\n",
       "      <th>2</th>\n",
       "      <td>Block B, Nobodoy Housing Society, Mohammadpur,...</td>\n",
       "      <td>1,250 sqft</td>\n",
       "      <td>3</td>\n",
       "      <td>3</td>\n",
       "      <td>18 Thousand</td>\n",
       "    </tr>\n",
       "    <tr>\n",
       "      <th>3</th>\n",
       "      <td>Gulshan 1, Gulshan, Dhaka</td>\n",
       "      <td>2,200 sqft</td>\n",
       "      <td>3</td>\n",
       "      <td>4</td>\n",
       "      <td>75 Thousand</td>\n",
       "    </tr>\n",
       "    <tr>\n",
       "      <th>4</th>\n",
       "      <td>Baridhara, Dhaka</td>\n",
       "      <td>2,200 sqft</td>\n",
       "      <td>3</td>\n",
       "      <td>3</td>\n",
       "      <td>75 Thousand</td>\n",
       "    </tr>\n",
       "  </tbody>\n",
       "</table>\n",
       "</div>"
      ],
      "text/plain": [
       "                                            Location        Area  Bed  Bath  \\\n",
       "0                    Block H, Bashundhara R-A, Dhaka  1,600 sqft    3     3   \n",
       "1                           Farmgate, Tejgaon, Dhaka    900 sqft    2     2   \n",
       "2  Block B, Nobodoy Housing Society, Mohammadpur,...  1,250 sqft    3     3   \n",
       "3                          Gulshan 1, Gulshan, Dhaka  2,200 sqft    3     4   \n",
       "4                                   Baridhara, Dhaka  2,200 sqft    3     3   \n",
       "\n",
       "         Price  \n",
       "0  20 Thousand  \n",
       "1  20 Thousand  \n",
       "2  18 Thousand  \n",
       "3  75 Thousand  \n",
       "4  75 Thousand  "
      ]
     },
     "execution_count": 6,
     "metadata": {},
     "output_type": "execute_result"
    }
   ],
   "source": [
    "df.head()"
   ]
  },
  {
   "cell_type": "code",
   "execution_count": 7,
   "id": "99bc2476",
   "metadata": {
    "execution": {
     "iopub.execute_input": "2022-08-05T12:47:39.145294Z",
     "iopub.status.busy": "2022-08-05T12:47:39.144640Z",
     "iopub.status.idle": "2022-08-05T12:47:39.157449Z",
     "shell.execute_reply": "2022-08-05T12:47:39.156330Z"
    },
    "id": "TTnidv6dFsDw",
    "outputId": "52e8dc38-6f67-4ed6-e704-7f832d9489b6",
    "papermill": {
     "duration": 0.031934,
     "end_time": "2022-08-05T12:47:39.159624",
     "exception": false,
     "start_time": "2022-08-05T12:47:39.127690",
     "status": "completed"
    },
    "tags": []
   },
   "outputs": [
    {
     "data": {
      "text/plain": [
       "Location    0\n",
       "Area        0\n",
       "Bed         0\n",
       "Bath        0\n",
       "Price       0\n",
       "dtype: int64"
      ]
     },
     "execution_count": 7,
     "metadata": {},
     "output_type": "execute_result"
    }
   ],
   "source": [
    "df.isnull().sum()"
   ]
  },
  {
   "cell_type": "code",
   "execution_count": 8,
   "id": "6254aef0",
   "metadata": {
    "execution": {
     "iopub.execute_input": "2022-08-05T12:47:39.192800Z",
     "iopub.status.busy": "2022-08-05T12:47:39.192064Z",
     "iopub.status.idle": "2022-08-05T12:47:39.214409Z",
     "shell.execute_reply": "2022-08-05T12:47:39.213493Z"
    },
    "id": "ejWfftP7FsDx",
    "papermill": {
     "duration": 0.042282,
     "end_time": "2022-08-05T12:47:39.216920",
     "exception": false,
     "start_time": "2022-08-05T12:47:39.174638",
     "status": "completed"
    },
    "tags": []
   },
   "outputs": [],
   "source": [
    "df['Area']=df['Area'].str.replace(',','')"
   ]
  },
  {
   "cell_type": "code",
   "execution_count": 9,
   "id": "2e1abde7",
   "metadata": {
    "execution": {
     "iopub.execute_input": "2022-08-05T12:47:39.249020Z",
     "iopub.status.busy": "2022-08-05T12:47:39.248626Z",
     "iopub.status.idle": "2022-08-05T12:47:39.261769Z",
     "shell.execute_reply": "2022-08-05T12:47:39.260756Z"
    },
    "id": "uAbJATlhFsDy",
    "outputId": "a76aee2f-da2e-4004-eeb8-26fd89f8952f",
    "papermill": {
     "duration": 0.031894,
     "end_time": "2022-08-05T12:47:39.264023",
     "exception": false,
     "start_time": "2022-08-05T12:47:39.232129",
     "status": "completed"
    },
    "tags": []
   },
   "outputs": [
    {
     "data": {
      "text/html": [
       "<div>\n",
       "<style scoped>\n",
       "    .dataframe tbody tr th:only-of-type {\n",
       "        vertical-align: middle;\n",
       "    }\n",
       "\n",
       "    .dataframe tbody tr th {\n",
       "        vertical-align: top;\n",
       "    }\n",
       "\n",
       "    .dataframe thead th {\n",
       "        text-align: right;\n",
       "    }\n",
       "</style>\n",
       "<table border=\"1\" class=\"dataframe\">\n",
       "  <thead>\n",
       "    <tr style=\"text-align: right;\">\n",
       "      <th></th>\n",
       "      <th>Location</th>\n",
       "      <th>Area</th>\n",
       "      <th>Bed</th>\n",
       "      <th>Bath</th>\n",
       "      <th>Price</th>\n",
       "    </tr>\n",
       "  </thead>\n",
       "  <tbody>\n",
       "    <tr>\n",
       "      <th>0</th>\n",
       "      <td>Block H, Bashundhara R-A, Dhaka</td>\n",
       "      <td>1600 sqft</td>\n",
       "      <td>3</td>\n",
       "      <td>3</td>\n",
       "      <td>20 Thousand</td>\n",
       "    </tr>\n",
       "    <tr>\n",
       "      <th>1</th>\n",
       "      <td>Farmgate, Tejgaon, Dhaka</td>\n",
       "      <td>900 sqft</td>\n",
       "      <td>2</td>\n",
       "      <td>2</td>\n",
       "      <td>20 Thousand</td>\n",
       "    </tr>\n",
       "    <tr>\n",
       "      <th>2</th>\n",
       "      <td>Block B, Nobodoy Housing Society, Mohammadpur,...</td>\n",
       "      <td>1250 sqft</td>\n",
       "      <td>3</td>\n",
       "      <td>3</td>\n",
       "      <td>18 Thousand</td>\n",
       "    </tr>\n",
       "    <tr>\n",
       "      <th>3</th>\n",
       "      <td>Gulshan 1, Gulshan, Dhaka</td>\n",
       "      <td>2200 sqft</td>\n",
       "      <td>3</td>\n",
       "      <td>4</td>\n",
       "      <td>75 Thousand</td>\n",
       "    </tr>\n",
       "    <tr>\n",
       "      <th>4</th>\n",
       "      <td>Baridhara, Dhaka</td>\n",
       "      <td>2200 sqft</td>\n",
       "      <td>3</td>\n",
       "      <td>3</td>\n",
       "      <td>75 Thousand</td>\n",
       "    </tr>\n",
       "  </tbody>\n",
       "</table>\n",
       "</div>"
      ],
      "text/plain": [
       "                                            Location       Area  Bed  Bath  \\\n",
       "0                    Block H, Bashundhara R-A, Dhaka  1600 sqft    3     3   \n",
       "1                           Farmgate, Tejgaon, Dhaka   900 sqft    2     2   \n",
       "2  Block B, Nobodoy Housing Society, Mohammadpur,...  1250 sqft    3     3   \n",
       "3                          Gulshan 1, Gulshan, Dhaka  2200 sqft    3     4   \n",
       "4                                   Baridhara, Dhaka  2200 sqft    3     3   \n",
       "\n",
       "         Price  \n",
       "0  20 Thousand  \n",
       "1  20 Thousand  \n",
       "2  18 Thousand  \n",
       "3  75 Thousand  \n",
       "4  75 Thousand  "
      ]
     },
     "execution_count": 9,
     "metadata": {},
     "output_type": "execute_result"
    }
   ],
   "source": [
    "df.head()"
   ]
  },
  {
   "cell_type": "code",
   "execution_count": 10,
   "id": "2f48bf02",
   "metadata": {
    "execution": {
     "iopub.execute_input": "2022-08-05T12:47:39.296623Z",
     "iopub.status.busy": "2022-08-05T12:47:39.295839Z",
     "iopub.status.idle": "2022-08-05T12:47:39.326260Z",
     "shell.execute_reply": "2022-08-05T12:47:39.325432Z"
    },
    "id": "WDKT8Gn2FsDz",
    "papermill": {
     "duration": 0.0495,
     "end_time": "2022-08-05T12:47:39.328732",
     "exception": false,
     "start_time": "2022-08-05T12:47:39.279232",
     "status": "completed"
    },
    "tags": []
   },
   "outputs": [],
   "source": [
    "#removing the sqft from the area and making them int values \n",
    "df['Area'] = df['Area'].apply(lambda x: int(x.split(' ')[0]))"
   ]
  },
  {
   "cell_type": "code",
   "execution_count": 11,
   "id": "2b3380b4",
   "metadata": {
    "execution": {
     "iopub.execute_input": "2022-08-05T12:47:39.361628Z",
     "iopub.status.busy": "2022-08-05T12:47:39.361189Z",
     "iopub.status.idle": "2022-08-05T12:47:39.373687Z",
     "shell.execute_reply": "2022-08-05T12:47:39.372491Z"
    },
    "id": "oMfA3F7qFsD0",
    "outputId": "85a7230f-2cad-4c7c-ba15-3820f636ec9e",
    "papermill": {
     "duration": 0.031653,
     "end_time": "2022-08-05T12:47:39.376032",
     "exception": false,
     "start_time": "2022-08-05T12:47:39.344379",
     "status": "completed"
    },
    "tags": []
   },
   "outputs": [
    {
     "data": {
      "text/html": [
       "<div>\n",
       "<style scoped>\n",
       "    .dataframe tbody tr th:only-of-type {\n",
       "        vertical-align: middle;\n",
       "    }\n",
       "\n",
       "    .dataframe tbody tr th {\n",
       "        vertical-align: top;\n",
       "    }\n",
       "\n",
       "    .dataframe thead th {\n",
       "        text-align: right;\n",
       "    }\n",
       "</style>\n",
       "<table border=\"1\" class=\"dataframe\">\n",
       "  <thead>\n",
       "    <tr style=\"text-align: right;\">\n",
       "      <th></th>\n",
       "      <th>Location</th>\n",
       "      <th>Area</th>\n",
       "      <th>Bed</th>\n",
       "      <th>Bath</th>\n",
       "      <th>Price</th>\n",
       "    </tr>\n",
       "  </thead>\n",
       "  <tbody>\n",
       "    <tr>\n",
       "      <th>0</th>\n",
       "      <td>Block H, Bashundhara R-A, Dhaka</td>\n",
       "      <td>1600</td>\n",
       "      <td>3</td>\n",
       "      <td>3</td>\n",
       "      <td>20 Thousand</td>\n",
       "    </tr>\n",
       "    <tr>\n",
       "      <th>1</th>\n",
       "      <td>Farmgate, Tejgaon, Dhaka</td>\n",
       "      <td>900</td>\n",
       "      <td>2</td>\n",
       "      <td>2</td>\n",
       "      <td>20 Thousand</td>\n",
       "    </tr>\n",
       "    <tr>\n",
       "      <th>2</th>\n",
       "      <td>Block B, Nobodoy Housing Society, Mohammadpur,...</td>\n",
       "      <td>1250</td>\n",
       "      <td>3</td>\n",
       "      <td>3</td>\n",
       "      <td>18 Thousand</td>\n",
       "    </tr>\n",
       "    <tr>\n",
       "      <th>3</th>\n",
       "      <td>Gulshan 1, Gulshan, Dhaka</td>\n",
       "      <td>2200</td>\n",
       "      <td>3</td>\n",
       "      <td>4</td>\n",
       "      <td>75 Thousand</td>\n",
       "    </tr>\n",
       "    <tr>\n",
       "      <th>4</th>\n",
       "      <td>Baridhara, Dhaka</td>\n",
       "      <td>2200</td>\n",
       "      <td>3</td>\n",
       "      <td>3</td>\n",
       "      <td>75 Thousand</td>\n",
       "    </tr>\n",
       "  </tbody>\n",
       "</table>\n",
       "</div>"
      ],
      "text/plain": [
       "                                            Location  Area  Bed  Bath  \\\n",
       "0                    Block H, Bashundhara R-A, Dhaka  1600    3     3   \n",
       "1                           Farmgate, Tejgaon, Dhaka   900    2     2   \n",
       "2  Block B, Nobodoy Housing Society, Mohammadpur,...  1250    3     3   \n",
       "3                          Gulshan 1, Gulshan, Dhaka  2200    3     4   \n",
       "4                                   Baridhara, Dhaka  2200    3     3   \n",
       "\n",
       "         Price  \n",
       "0  20 Thousand  \n",
       "1  20 Thousand  \n",
       "2  18 Thousand  \n",
       "3  75 Thousand  \n",
       "4  75 Thousand  "
      ]
     },
     "execution_count": 11,
     "metadata": {},
     "output_type": "execute_result"
    }
   ],
   "source": [
    "df.head()"
   ]
  },
  {
   "cell_type": "code",
   "execution_count": 12,
   "id": "aca48c48",
   "metadata": {
    "execution": {
     "iopub.execute_input": "2022-08-05T12:47:39.410325Z",
     "iopub.status.busy": "2022-08-05T12:47:39.409526Z",
     "iopub.status.idle": "2022-08-05T12:47:39.419766Z",
     "shell.execute_reply": "2022-08-05T12:47:39.418667Z"
    },
    "id": "vU9T5bh7FsD1",
    "outputId": "1782c7d9-337c-4ab5-d772-a52b0e85489c",
    "papermill": {
     "duration": 0.030191,
     "end_time": "2022-08-05T12:47:39.422120",
     "exception": false,
     "start_time": "2022-08-05T12:47:39.391929",
     "status": "completed"
    },
    "tags": []
   },
   "outputs": [
    {
     "data": {
      "text/plain": [
       "array([3, 2, 4, 1, 5, 6])"
      ]
     },
     "execution_count": 12,
     "metadata": {},
     "output_type": "execute_result"
    }
   ],
   "source": [
    "df.Bed.unique()"
   ]
  },
  {
   "cell_type": "code",
   "execution_count": 13,
   "id": "c5e26492",
   "metadata": {
    "execution": {
     "iopub.execute_input": "2022-08-05T12:47:39.455746Z",
     "iopub.status.busy": "2022-08-05T12:47:39.455332Z",
     "iopub.status.idle": "2022-08-05T12:47:39.463022Z",
     "shell.execute_reply": "2022-08-05T12:47:39.461978Z"
    },
    "id": "dw2Q2ibFFsD2",
    "outputId": "a55f2492-98fe-4542-89a6-17636e7f356b",
    "papermill": {
     "duration": 0.027109,
     "end_time": "2022-08-05T12:47:39.465064",
     "exception": false,
     "start_time": "2022-08-05T12:47:39.437955",
     "status": "completed"
    },
    "tags": []
   },
   "outputs": [
    {
     "data": {
      "text/plain": [
       "array([3, 2, 4, 5, 1, 6, 8])"
      ]
     },
     "execution_count": 13,
     "metadata": {},
     "output_type": "execute_result"
    }
   ],
   "source": [
    "df.Bath.unique()"
   ]
  },
  {
   "cell_type": "code",
   "execution_count": 14,
   "id": "dc8eac9b",
   "metadata": {
    "execution": {
     "iopub.execute_input": "2022-08-05T12:47:39.498935Z",
     "iopub.status.busy": "2022-08-05T12:47:39.497854Z",
     "iopub.status.idle": "2022-08-05T12:47:39.510162Z",
     "shell.execute_reply": "2022-08-05T12:47:39.509306Z"
    },
    "id": "5Rnx-Wn6FsD2",
    "outputId": "065c37ec-de05-4575-cc83-1f3ff8a8c422",
    "papermill": {
     "duration": 0.031252,
     "end_time": "2022-08-05T12:47:39.512215",
     "exception": false,
     "start_time": "2022-08-05T12:47:39.480963",
     "status": "completed"
    },
    "tags": []
   },
   "outputs": [
    {
     "data": {
      "text/html": [
       "<div>\n",
       "<style scoped>\n",
       "    .dataframe tbody tr th:only-of-type {\n",
       "        vertical-align: middle;\n",
       "    }\n",
       "\n",
       "    .dataframe tbody tr th {\n",
       "        vertical-align: top;\n",
       "    }\n",
       "\n",
       "    .dataframe thead th {\n",
       "        text-align: right;\n",
       "    }\n",
       "</style>\n",
       "<table border=\"1\" class=\"dataframe\">\n",
       "  <thead>\n",
       "    <tr style=\"text-align: right;\">\n",
       "      <th></th>\n",
       "      <th>Location</th>\n",
       "      <th>Area</th>\n",
       "      <th>Bed</th>\n",
       "      <th>Bath</th>\n",
       "      <th>Price</th>\n",
       "    </tr>\n",
       "  </thead>\n",
       "  <tbody>\n",
       "    <tr>\n",
       "      <th>304</th>\n",
       "      <td>Gulshan 2, Gulshan, Dhaka</td>\n",
       "      <td>4500</td>\n",
       "      <td>6</td>\n",
       "      <td>6</td>\n",
       "      <td>2.8 Lakh</td>\n",
       "    </tr>\n",
       "    <tr>\n",
       "      <th>24464</th>\n",
       "      <td>Tejturi Bazar, Tejgaon, Dhaka</td>\n",
       "      <td>2450</td>\n",
       "      <td>6</td>\n",
       "      <td>6</td>\n",
       "      <td>60 Thousand</td>\n",
       "    </tr>\n",
       "  </tbody>\n",
       "</table>\n",
       "</div>"
      ],
      "text/plain": [
       "                            Location  Area  Bed  Bath        Price\n",
       "304        Gulshan 2, Gulshan, Dhaka  4500    6     6     2.8 Lakh\n",
       "24464  Tejturi Bazar, Tejgaon, Dhaka  2450    6     6  60 Thousand"
      ]
     },
     "execution_count": 14,
     "metadata": {},
     "output_type": "execute_result"
    }
   ],
   "source": [
    "df[df.Bed>5]"
   ]
  },
  {
   "cell_type": "code",
   "execution_count": 15,
   "id": "89b9cd37",
   "metadata": {
    "execution": {
     "iopub.execute_input": "2022-08-05T12:47:39.546553Z",
     "iopub.status.busy": "2022-08-05T12:47:39.545817Z",
     "iopub.status.idle": "2022-08-05T12:47:39.557827Z",
     "shell.execute_reply": "2022-08-05T12:47:39.557002Z"
    },
    "id": "EsqG9cLvFsD3",
    "outputId": "66a88ca3-748a-45a6-d73d-d67eb6e3e33b",
    "papermill": {
     "duration": 0.031791,
     "end_time": "2022-08-05T12:47:39.560038",
     "exception": false,
     "start_time": "2022-08-05T12:47:39.528247",
     "status": "completed"
    },
    "tags": []
   },
   "outputs": [
    {
     "data": {
      "text/html": [
       "<div>\n",
       "<style scoped>\n",
       "    .dataframe tbody tr th:only-of-type {\n",
       "        vertical-align: middle;\n",
       "    }\n",
       "\n",
       "    .dataframe tbody tr th {\n",
       "        vertical-align: top;\n",
       "    }\n",
       "\n",
       "    .dataframe thead th {\n",
       "        text-align: right;\n",
       "    }\n",
       "</style>\n",
       "<table border=\"1\" class=\"dataframe\">\n",
       "  <thead>\n",
       "    <tr style=\"text-align: right;\">\n",
       "      <th></th>\n",
       "      <th>Location</th>\n",
       "      <th>Area</th>\n",
       "      <th>Bed</th>\n",
       "      <th>Bath</th>\n",
       "      <th>Price</th>\n",
       "    </tr>\n",
       "  </thead>\n",
       "  <tbody>\n",
       "    <tr>\n",
       "      <th>533</th>\n",
       "      <td>Gulshan 2, Gulshan, Dhaka</td>\n",
       "      <td>4200</td>\n",
       "      <td>4</td>\n",
       "      <td>8</td>\n",
       "      <td>3 Lakh</td>\n",
       "    </tr>\n",
       "  </tbody>\n",
       "</table>\n",
       "</div>"
      ],
      "text/plain": [
       "                      Location  Area  Bed  Bath   Price\n",
       "533  Gulshan 2, Gulshan, Dhaka  4200    4     8  3 Lakh"
      ]
     },
     "execution_count": 15,
     "metadata": {},
     "output_type": "execute_result"
    }
   ],
   "source": [
    "df[df.Bath>6] #8 baths!! noice but why????? "
   ]
  },
  {
   "cell_type": "code",
   "execution_count": 16,
   "id": "7982cd30",
   "metadata": {
    "execution": {
     "iopub.execute_input": "2022-08-05T12:47:39.594355Z",
     "iopub.status.busy": "2022-08-05T12:47:39.593779Z",
     "iopub.status.idle": "2022-08-05T12:47:39.598181Z",
     "shell.execute_reply": "2022-08-05T12:47:39.597443Z"
    },
    "id": "Bj9myOHjFsD3",
    "papermill": {
     "duration": 0.023901,
     "end_time": "2022-08-05T12:47:39.600141",
     "exception": false,
     "start_time": "2022-08-05T12:47:39.576240",
     "status": "completed"
    },
    "tags": []
   },
   "outputs": [],
   "source": [
    "df1 = df.copy()\n"
   ]
  },
  {
   "cell_type": "code",
   "execution_count": 17,
   "id": "b39a4dd4",
   "metadata": {
    "execution": {
     "iopub.execute_input": "2022-08-05T12:47:39.634736Z",
     "iopub.status.busy": "2022-08-05T12:47:39.634123Z",
     "iopub.status.idle": "2022-08-05T12:47:39.639219Z",
     "shell.execute_reply": "2022-08-05T12:47:39.638437Z"
    },
    "id": "ORYFYGMTFsD4",
    "papermill": {
     "duration": 0.024898,
     "end_time": "2022-08-05T12:47:39.641283",
     "exception": false,
     "start_time": "2022-08-05T12:47:39.616385",
     "status": "completed"
    },
    "tags": []
   },
   "outputs": [],
   "source": [
    "#I wanted the make the price Thousand/Lakh values to a float values\n",
    "def price_float(x):\n",
    "    y = x.split(' ')[1]\n",
    "    if y == \"Thousand\":\n",
    "        return float(x.split(' ')[0]) * 1000\n",
    "    else:\n",
    "        return float(x.split(' ')[0]) * 100000 "
   ]
  },
  {
   "cell_type": "code",
   "execution_count": 18,
   "id": "ab20d011",
   "metadata": {
    "execution": {
     "iopub.execute_input": "2022-08-05T12:47:39.676007Z",
     "iopub.status.busy": "2022-08-05T12:47:39.675352Z",
     "iopub.status.idle": "2022-08-05T12:47:39.706932Z",
     "shell.execute_reply": "2022-08-05T12:47:39.705832Z"
    },
    "id": "uv1sPSjtFsD4",
    "papermill": {
     "duration": 0.051755,
     "end_time": "2022-08-05T12:47:39.709409",
     "exception": false,
     "start_time": "2022-08-05T12:47:39.657654",
     "status": "completed"
    },
    "tags": []
   },
   "outputs": [],
   "source": [
    "df1.Price = df1.Price.apply(price_float)"
   ]
  },
  {
   "cell_type": "code",
   "execution_count": 19,
   "id": "4cdc8b28",
   "metadata": {
    "execution": {
     "iopub.execute_input": "2022-08-05T12:47:39.744222Z",
     "iopub.status.busy": "2022-08-05T12:47:39.743536Z",
     "iopub.status.idle": "2022-08-05T12:47:39.751103Z",
     "shell.execute_reply": "2022-08-05T12:47:39.749971Z"
    },
    "id": "e5XYNqwdFsD5",
    "outputId": "a68245b3-594f-402a-9fff-52037e7f0ec5",
    "papermill": {
     "duration": 0.027454,
     "end_time": "2022-08-05T12:47:39.753218",
     "exception": false,
     "start_time": "2022-08-05T12:47:39.725764",
     "status": "completed"
    },
    "tags": []
   },
   "outputs": [
    {
     "data": {
      "text/plain": [
       "Location    Gulshan 2, Gulshan, Dhaka\n",
       "Area                             4500\n",
       "Bed                                 6\n",
       "Bath                                6\n",
       "Price                        280000.0\n",
       "Name: 304, dtype: object"
      ]
     },
     "execution_count": 19,
     "metadata": {},
     "output_type": "execute_result"
    }
   ],
   "source": [
    "df1.loc[304]"
   ]
  },
  {
   "cell_type": "code",
   "execution_count": 20,
   "id": "c8449c3d",
   "metadata": {
    "execution": {
     "iopub.execute_input": "2022-08-05T12:47:39.788013Z",
     "iopub.status.busy": "2022-08-05T12:47:39.787409Z",
     "iopub.status.idle": "2022-08-05T12:47:39.793102Z",
     "shell.execute_reply": "2022-08-05T12:47:39.791980Z"
    },
    "id": "ZF03uWPnFsD5",
    "papermill": {
     "duration": 0.02565,
     "end_time": "2022-08-05T12:47:39.795326",
     "exception": false,
     "start_time": "2022-08-05T12:47:39.769676",
     "status": "completed"
    },
    "tags": []
   },
   "outputs": [],
   "source": [
    "df1['price_per_sqft'] = df1['Price']/df1['Area']"
   ]
  },
  {
   "cell_type": "code",
   "execution_count": 21,
   "id": "e0d05f0b",
   "metadata": {
    "execution": {
     "iopub.execute_input": "2022-08-05T12:47:39.830113Z",
     "iopub.status.busy": "2022-08-05T12:47:39.829479Z",
     "iopub.status.idle": "2022-08-05T12:47:39.841533Z",
     "shell.execute_reply": "2022-08-05T12:47:39.840727Z"
    },
    "id": "Jl7MUqa-FsD6",
    "outputId": "75d29711-60ae-4857-8039-a2536b57aec3",
    "papermill": {
     "duration": 0.032124,
     "end_time": "2022-08-05T12:47:39.843685",
     "exception": false,
     "start_time": "2022-08-05T12:47:39.811561",
     "status": "completed"
    },
    "tags": []
   },
   "outputs": [
    {
     "data": {
      "text/html": [
       "<div>\n",
       "<style scoped>\n",
       "    .dataframe tbody tr th:only-of-type {\n",
       "        vertical-align: middle;\n",
       "    }\n",
       "\n",
       "    .dataframe tbody tr th {\n",
       "        vertical-align: top;\n",
       "    }\n",
       "\n",
       "    .dataframe thead th {\n",
       "        text-align: right;\n",
       "    }\n",
       "</style>\n",
       "<table border=\"1\" class=\"dataframe\">\n",
       "  <thead>\n",
       "    <tr style=\"text-align: right;\">\n",
       "      <th></th>\n",
       "      <th>Location</th>\n",
       "      <th>Area</th>\n",
       "      <th>Bed</th>\n",
       "      <th>Bath</th>\n",
       "      <th>Price</th>\n",
       "      <th>price_per_sqft</th>\n",
       "    </tr>\n",
       "  </thead>\n",
       "  <tbody>\n",
       "    <tr>\n",
       "      <th>0</th>\n",
       "      <td>Block H, Bashundhara R-A, Dhaka</td>\n",
       "      <td>1600</td>\n",
       "      <td>3</td>\n",
       "      <td>3</td>\n",
       "      <td>20000.0</td>\n",
       "      <td>12.500000</td>\n",
       "    </tr>\n",
       "    <tr>\n",
       "      <th>1</th>\n",
       "      <td>Farmgate, Tejgaon, Dhaka</td>\n",
       "      <td>900</td>\n",
       "      <td>2</td>\n",
       "      <td>2</td>\n",
       "      <td>20000.0</td>\n",
       "      <td>22.222222</td>\n",
       "    </tr>\n",
       "    <tr>\n",
       "      <th>2</th>\n",
       "      <td>Block B, Nobodoy Housing Society, Mohammadpur,...</td>\n",
       "      <td>1250</td>\n",
       "      <td>3</td>\n",
       "      <td>3</td>\n",
       "      <td>18000.0</td>\n",
       "      <td>14.400000</td>\n",
       "    </tr>\n",
       "    <tr>\n",
       "      <th>3</th>\n",
       "      <td>Gulshan 1, Gulshan, Dhaka</td>\n",
       "      <td>2200</td>\n",
       "      <td>3</td>\n",
       "      <td>4</td>\n",
       "      <td>75000.0</td>\n",
       "      <td>34.090909</td>\n",
       "    </tr>\n",
       "    <tr>\n",
       "      <th>4</th>\n",
       "      <td>Baridhara, Dhaka</td>\n",
       "      <td>2200</td>\n",
       "      <td>3</td>\n",
       "      <td>3</td>\n",
       "      <td>75000.0</td>\n",
       "      <td>34.090909</td>\n",
       "    </tr>\n",
       "  </tbody>\n",
       "</table>\n",
       "</div>"
      ],
      "text/plain": [
       "                                            Location  Area  Bed  Bath  \\\n",
       "0                    Block H, Bashundhara R-A, Dhaka  1600    3     3   \n",
       "1                           Farmgate, Tejgaon, Dhaka   900    2     2   \n",
       "2  Block B, Nobodoy Housing Society, Mohammadpur,...  1250    3     3   \n",
       "3                          Gulshan 1, Gulshan, Dhaka  2200    3     4   \n",
       "4                                   Baridhara, Dhaka  2200    3     3   \n",
       "\n",
       "     Price  price_per_sqft  \n",
       "0  20000.0       12.500000  \n",
       "1  20000.0       22.222222  \n",
       "2  18000.0       14.400000  \n",
       "3  75000.0       34.090909  \n",
       "4  75000.0       34.090909  "
      ]
     },
     "execution_count": 21,
     "metadata": {},
     "output_type": "execute_result"
    }
   ],
   "source": [
    "df1.head()"
   ]
  },
  {
   "cell_type": "code",
   "execution_count": 22,
   "id": "8b7dfbe9",
   "metadata": {
    "execution": {
     "iopub.execute_input": "2022-08-05T12:47:39.878738Z",
     "iopub.status.busy": "2022-08-05T12:47:39.878297Z",
     "iopub.status.idle": "2022-08-05T12:47:39.887431Z",
     "shell.execute_reply": "2022-08-05T12:47:39.886632Z"
    },
    "id": "sQJR4jU1FsD6",
    "outputId": "4687900a-45f8-42f5-efa9-4638f973ae87",
    "papermill": {
     "duration": 0.029104,
     "end_time": "2022-08-05T12:47:39.889445",
     "exception": false,
     "start_time": "2022-08-05T12:47:39.860341",
     "status": "completed"
    },
    "tags": []
   },
   "outputs": [
    {
     "data": {
      "text/plain": [
       "730"
      ]
     },
     "execution_count": 22,
     "metadata": {},
     "output_type": "execute_result"
    }
   ],
   "source": [
    "len(df1['Location'].unique())"
   ]
  },
  {
   "cell_type": "code",
   "execution_count": 23,
   "id": "a664c38b",
   "metadata": {
    "execution": {
     "iopub.execute_input": "2022-08-05T12:47:39.924777Z",
     "iopub.status.busy": "2022-08-05T12:47:39.923791Z",
     "iopub.status.idle": "2022-08-05T12:47:39.946734Z",
     "shell.execute_reply": "2022-08-05T12:47:39.945821Z"
    },
    "id": "UnI0J_TYFsD7",
    "papermill": {
     "duration": 0.043374,
     "end_time": "2022-08-05T12:47:39.949434",
     "exception": false,
     "start_time": "2022-08-05T12:47:39.906060",
     "status": "completed"
    },
    "tags": []
   },
   "outputs": [],
   "source": [
    "#removing the comma in the Area column\n",
    "df1['Location']=df1['Location'].str.replace(',','') "
   ]
  },
  {
   "cell_type": "code",
   "execution_count": 24,
   "id": "5ec9b5aa",
   "metadata": {
    "execution": {
     "iopub.execute_input": "2022-08-05T12:47:39.985029Z",
     "iopub.status.busy": "2022-08-05T12:47:39.984257Z",
     "iopub.status.idle": "2022-08-05T12:47:39.997219Z",
     "shell.execute_reply": "2022-08-05T12:47:39.996168Z"
    },
    "id": "xFB_FWZbFsD7",
    "outputId": "96b5ae50-324c-43a2-81ba-ff88b4727e00",
    "papermill": {
     "duration": 0.033203,
     "end_time": "2022-08-05T12:47:39.999420",
     "exception": false,
     "start_time": "2022-08-05T12:47:39.966217",
     "status": "completed"
    },
    "tags": []
   },
   "outputs": [
    {
     "data": {
      "text/html": [
       "<div>\n",
       "<style scoped>\n",
       "    .dataframe tbody tr th:only-of-type {\n",
       "        vertical-align: middle;\n",
       "    }\n",
       "\n",
       "    .dataframe tbody tr th {\n",
       "        vertical-align: top;\n",
       "    }\n",
       "\n",
       "    .dataframe thead th {\n",
       "        text-align: right;\n",
       "    }\n",
       "</style>\n",
       "<table border=\"1\" class=\"dataframe\">\n",
       "  <thead>\n",
       "    <tr style=\"text-align: right;\">\n",
       "      <th></th>\n",
       "      <th>Location</th>\n",
       "      <th>Area</th>\n",
       "      <th>Bed</th>\n",
       "      <th>Bath</th>\n",
       "      <th>Price</th>\n",
       "      <th>price_per_sqft</th>\n",
       "    </tr>\n",
       "  </thead>\n",
       "  <tbody>\n",
       "    <tr>\n",
       "      <th>0</th>\n",
       "      <td>Block H Bashundhara R-A Dhaka</td>\n",
       "      <td>1600</td>\n",
       "      <td>3</td>\n",
       "      <td>3</td>\n",
       "      <td>20000.0</td>\n",
       "      <td>12.500000</td>\n",
       "    </tr>\n",
       "    <tr>\n",
       "      <th>1</th>\n",
       "      <td>Farmgate Tejgaon Dhaka</td>\n",
       "      <td>900</td>\n",
       "      <td>2</td>\n",
       "      <td>2</td>\n",
       "      <td>20000.0</td>\n",
       "      <td>22.222222</td>\n",
       "    </tr>\n",
       "    <tr>\n",
       "      <th>2</th>\n",
       "      <td>Block B Nobodoy Housing Society Mohammadpur Dhaka</td>\n",
       "      <td>1250</td>\n",
       "      <td>3</td>\n",
       "      <td>3</td>\n",
       "      <td>18000.0</td>\n",
       "      <td>14.400000</td>\n",
       "    </tr>\n",
       "    <tr>\n",
       "      <th>3</th>\n",
       "      <td>Gulshan 1 Gulshan Dhaka</td>\n",
       "      <td>2200</td>\n",
       "      <td>3</td>\n",
       "      <td>4</td>\n",
       "      <td>75000.0</td>\n",
       "      <td>34.090909</td>\n",
       "    </tr>\n",
       "    <tr>\n",
       "      <th>4</th>\n",
       "      <td>Baridhara Dhaka</td>\n",
       "      <td>2200</td>\n",
       "      <td>3</td>\n",
       "      <td>3</td>\n",
       "      <td>75000.0</td>\n",
       "      <td>34.090909</td>\n",
       "    </tr>\n",
       "  </tbody>\n",
       "</table>\n",
       "</div>"
      ],
      "text/plain": [
       "                                            Location  Area  Bed  Bath  \\\n",
       "0                      Block H Bashundhara R-A Dhaka  1600    3     3   \n",
       "1                             Farmgate Tejgaon Dhaka   900    2     2   \n",
       "2  Block B Nobodoy Housing Society Mohammadpur Dhaka  1250    3     3   \n",
       "3                            Gulshan 1 Gulshan Dhaka  2200    3     4   \n",
       "4                                    Baridhara Dhaka  2200    3     3   \n",
       "\n",
       "     Price  price_per_sqft  \n",
       "0  20000.0       12.500000  \n",
       "1  20000.0       22.222222  \n",
       "2  18000.0       14.400000  \n",
       "3  75000.0       34.090909  \n",
       "4  75000.0       34.090909  "
      ]
     },
     "execution_count": 24,
     "metadata": {},
     "output_type": "execute_result"
    }
   ],
   "source": [
    "df1.head()"
   ]
  },
  {
   "cell_type": "code",
   "execution_count": 25,
   "id": "d6b6fe28",
   "metadata": {
    "execution": {
     "iopub.execute_input": "2022-08-05T12:47:40.035917Z",
     "iopub.status.busy": "2022-08-05T12:47:40.034912Z",
     "iopub.status.idle": "2022-08-05T12:47:40.050819Z",
     "shell.execute_reply": "2022-08-05T12:47:40.049679Z"
    },
    "id": "iCEdb4XtFsD8",
    "outputId": "b67689ba-15c5-4654-d690-dd9ebe945951",
    "papermill": {
     "duration": 0.036847,
     "end_time": "2022-08-05T12:47:40.053177",
     "exception": false,
     "start_time": "2022-08-05T12:47:40.016330",
     "status": "completed"
    },
    "tags": []
   },
   "outputs": [
    {
     "data": {
      "text/plain": [
       "Mohammadpur Dhaka                                               757\n",
       "Mirpur Dhaka                                                    556\n",
       "Block D Section 12 Mirpur Dhaka                                 417\n",
       "Dhanmondi Dhaka                                                 414\n",
       "Block E Section 12 Mirpur Dhaka                                 411\n",
       "Sector 10 Uttara Dhaka                                          357\n",
       "Paikpara Ahmed Nagar Mirpur Dhaka                               352\n",
       "Kallyanpur Mirpur Dhaka                                         337\n",
       "Section 12 Mirpur Dhaka                                         311\n",
       "Block B Section 12 Mirpur Dhaka                                 307\n",
       "Joar Sahara Dhaka                                               305\n",
       "Block C Section 12 Mirpur Dhaka                                 294\n",
       "West Shewrapara Mirpur Dhaka                                    292\n",
       "Shyamoli Dhaka                                                  285\n",
       "PC Culture Housing Mohammadpur Dhaka                            274\n",
       "Hazaribag Dhaka                                                 260\n",
       "South Baridhara Residential AreaD. I. T. Project Badda Dhaka    256\n",
       "Block G Bashundhara R-A Dhaka                                   255\n",
       "Sector 13 Uttara Dhaka                                          250\n",
       "Uttar Badda Badda Dhaka                                         248\n",
       "Baitul Aman Housing Society Adabor Dhaka                        241\n",
       "Section 1 Mirpur Dhaka                                          241\n",
       "Mohammadi Housing LTD. Mohammadpur Dhaka                        238\n",
       "Badda Dhaka                                                     236\n",
       "Middle Badda Badda Dhaka                                        234\n",
       "Shahjahanpur Dhaka                                              230\n",
       "Sector 14 Uttara Dhaka                                          215\n",
       "Rupnagar R/A Mirpur Dhaka                                       206\n",
       "Shantinagar Dhaka                                               191\n",
       "Ibrahimpur Dhaka                                                188\n",
       "Name: Location, dtype: int64"
      ]
     },
     "execution_count": 25,
     "metadata": {},
     "output_type": "execute_result"
    }
   ],
   "source": [
    "#Finding the locations with most number of houses\n",
    "location_count = df1['Location'].value_counts(ascending=False)\n",
    "location_count.head(30)"
   ]
  },
  {
   "cell_type": "code",
   "execution_count": 26,
   "id": "d7f3f1bf",
   "metadata": {
    "execution": {
     "iopub.execute_input": "2022-08-05T12:47:40.089956Z",
     "iopub.status.busy": "2022-08-05T12:47:40.089190Z",
     "iopub.status.idle": "2022-08-05T12:47:40.097692Z",
     "shell.execute_reply": "2022-08-05T12:47:40.096883Z"
    },
    "id": "bCNlckEfFsD8",
    "outputId": "c5869f90-ec49-423d-9c0f-7fc825b073c0",
    "papermill": {
     "duration": 0.029609,
     "end_time": "2022-08-05T12:47:40.099995",
     "exception": false,
     "start_time": "2022-08-05T12:47:40.070386",
     "status": "completed"
    },
    "tags": []
   },
   "outputs": [
    {
     "data": {
      "text/plain": [
       "313"
      ]
     },
     "execution_count": 26,
     "metadata": {},
     "output_type": "execute_result"
    }
   ],
   "source": [
    "#Finding locations with less than 10 houses \n",
    "len(location_count[location_count <= 10])"
   ]
  },
  {
   "cell_type": "code",
   "execution_count": 27,
   "id": "2ac9dd6e",
   "metadata": {
    "execution": {
     "iopub.execute_input": "2022-08-05T12:47:40.137147Z",
     "iopub.status.busy": "2022-08-05T12:47:40.135922Z",
     "iopub.status.idle": "2022-08-05T12:47:40.147483Z",
     "shell.execute_reply": "2022-08-05T12:47:40.146170Z"
    },
    "id": "jWbsLevWFsD8",
    "outputId": "82cd6bf7-404b-4552-ce5b-14bf6e099098",
    "papermill": {
     "duration": 0.032855,
     "end_time": "2022-08-05T12:47:40.150041",
     "exception": false,
     "start_time": "2022-08-05T12:47:40.117186",
     "status": "completed"
    },
    "tags": []
   },
   "outputs": [
    {
     "data": {
      "text/plain": [
       "730"
      ]
     },
     "execution_count": 27,
     "metadata": {},
     "output_type": "execute_result"
    }
   ],
   "source": [
    "len(df1['Location'].unique())"
   ]
  },
  {
   "cell_type": "code",
   "execution_count": 28,
   "id": "8fbc8255",
   "metadata": {
    "execution": {
     "iopub.execute_input": "2022-08-05T12:47:40.186862Z",
     "iopub.status.busy": "2022-08-05T12:47:40.185767Z",
     "iopub.status.idle": "2022-08-05T12:47:40.190855Z",
     "shell.execute_reply": "2022-08-05T12:47:40.189979Z"
    },
    "id": "euxSsAO0FsD8",
    "papermill": {
     "duration": 0.025548,
     "end_time": "2022-08-05T12:47:40.192895",
     "exception": false,
     "start_time": "2022-08-05T12:47:40.167347",
     "status": "completed"
    },
    "tags": []
   },
   "outputs": [],
   "source": [
    "#Keeping the locations with less houses together\n",
    "location_count_under_10 = location_count[location_count <= 10]"
   ]
  },
  {
   "cell_type": "code",
   "execution_count": 29,
   "id": "7e2d4214",
   "metadata": {
    "execution": {
     "iopub.execute_input": "2022-08-05T12:47:40.229622Z",
     "iopub.status.busy": "2022-08-05T12:47:40.228905Z",
     "iopub.status.idle": "2022-08-05T12:47:40.267094Z",
     "shell.execute_reply": "2022-08-05T12:47:40.266246Z"
    },
    "id": "tOclFO0CFsD9",
    "papermill": {
     "duration": 0.059541,
     "end_time": "2022-08-05T12:47:40.269759",
     "exception": false,
     "start_time": "2022-08-05T12:47:40.210218",
     "status": "completed"
    },
    "tags": []
   },
   "outputs": [],
   "source": [
    "#now leveling them as 'other' \n",
    "df1.Location = df1.Location.apply(lambda x: 'other' if x in location_count_under_10 else x)"
   ]
  },
  {
   "cell_type": "code",
   "execution_count": 30,
   "id": "32906f20",
   "metadata": {
    "execution": {
     "iopub.execute_input": "2022-08-05T12:47:40.307452Z",
     "iopub.status.busy": "2022-08-05T12:47:40.306777Z",
     "iopub.status.idle": "2022-08-05T12:47:40.316577Z",
     "shell.execute_reply": "2022-08-05T12:47:40.315833Z"
    },
    "id": "ElyPi_znFsD9",
    "outputId": "8c8f441f-7b80-4124-b7aa-ee7edeabb623",
    "papermill": {
     "duration": 0.030975,
     "end_time": "2022-08-05T12:47:40.318525",
     "exception": false,
     "start_time": "2022-08-05T12:47:40.287550",
     "status": "completed"
    },
    "tags": []
   },
   "outputs": [
    {
     "data": {
      "text/plain": [
       "418"
      ]
     },
     "execution_count": 30,
     "metadata": {},
     "output_type": "execute_result"
    }
   ],
   "source": [
    "#now we have less unique values which will incress our accuracy \n",
    "len(df1['Location'].unique())"
   ]
  },
  {
   "cell_type": "code",
   "execution_count": 31,
   "id": "f6a2a473",
   "metadata": {
    "execution": {
     "iopub.execute_input": "2022-08-05T12:47:40.355396Z",
     "iopub.status.busy": "2022-08-05T12:47:40.354713Z",
     "iopub.status.idle": "2022-08-05T12:47:40.370619Z",
     "shell.execute_reply": "2022-08-05T12:47:40.369540Z"
    },
    "id": "JemIWoMMFsD-",
    "outputId": "4ce3496a-d884-40db-c8a4-bb93a7d8a3c2",
    "papermill": {
     "duration": 0.036966,
     "end_time": "2022-08-05T12:47:40.372924",
     "exception": false,
     "start_time": "2022-08-05T12:47:40.335958",
     "status": "completed"
    },
    "tags": []
   },
   "outputs": [
    {
     "data": {
      "text/html": [
       "<div>\n",
       "<style scoped>\n",
       "    .dataframe tbody tr th:only-of-type {\n",
       "        vertical-align: middle;\n",
       "    }\n",
       "\n",
       "    .dataframe tbody tr th {\n",
       "        vertical-align: top;\n",
       "    }\n",
       "\n",
       "    .dataframe thead th {\n",
       "        text-align: right;\n",
       "    }\n",
       "</style>\n",
       "<table border=\"1\" class=\"dataframe\">\n",
       "  <thead>\n",
       "    <tr style=\"text-align: right;\">\n",
       "      <th></th>\n",
       "      <th>Location</th>\n",
       "      <th>Area</th>\n",
       "      <th>Bed</th>\n",
       "      <th>Bath</th>\n",
       "      <th>Price</th>\n",
       "      <th>price_per_sqft</th>\n",
       "    </tr>\n",
       "  </thead>\n",
       "  <tbody>\n",
       "    <tr>\n",
       "      <th>39</th>\n",
       "      <td>other</td>\n",
       "      <td>800</td>\n",
       "      <td>3</td>\n",
       "      <td>2</td>\n",
       "      <td>15000.0</td>\n",
       "      <td>18.750000</td>\n",
       "    </tr>\n",
       "    <tr>\n",
       "      <th>86</th>\n",
       "      <td>Block C Section 13 Mirpur Dhaka</td>\n",
       "      <td>745</td>\n",
       "      <td>3</td>\n",
       "      <td>2</td>\n",
       "      <td>15000.0</td>\n",
       "      <td>20.134228</td>\n",
       "    </tr>\n",
       "    <tr>\n",
       "      <th>135</th>\n",
       "      <td>other</td>\n",
       "      <td>800</td>\n",
       "      <td>3</td>\n",
       "      <td>2</td>\n",
       "      <td>15000.0</td>\n",
       "      <td>18.750000</td>\n",
       "    </tr>\n",
       "    <tr>\n",
       "      <th>186</th>\n",
       "      <td>Nayatola Maghbazar Dhaka</td>\n",
       "      <td>550</td>\n",
       "      <td>2</td>\n",
       "      <td>2</td>\n",
       "      <td>13000.0</td>\n",
       "      <td>23.636364</td>\n",
       "    </tr>\n",
       "    <tr>\n",
       "      <th>191</th>\n",
       "      <td>Baitul Aman Housing Society Adabor Dhaka</td>\n",
       "      <td>550</td>\n",
       "      <td>2</td>\n",
       "      <td>1</td>\n",
       "      <td>8500.0</td>\n",
       "      <td>15.454545</td>\n",
       "    </tr>\n",
       "    <tr>\n",
       "      <th>193</th>\n",
       "      <td>Taltola Khilgaon Dhaka</td>\n",
       "      <td>550</td>\n",
       "      <td>2</td>\n",
       "      <td>1</td>\n",
       "      <td>11000.0</td>\n",
       "      <td>20.000000</td>\n",
       "    </tr>\n",
       "    <tr>\n",
       "      <th>195</th>\n",
       "      <td>South Monipur Mirpur Dhaka</td>\n",
       "      <td>850</td>\n",
       "      <td>3</td>\n",
       "      <td>2</td>\n",
       "      <td>13000.0</td>\n",
       "      <td>15.294118</td>\n",
       "    </tr>\n",
       "    <tr>\n",
       "      <th>205</th>\n",
       "      <td>other</td>\n",
       "      <td>800</td>\n",
       "      <td>3</td>\n",
       "      <td>2</td>\n",
       "      <td>15000.0</td>\n",
       "      <td>18.750000</td>\n",
       "    </tr>\n",
       "    <tr>\n",
       "      <th>252</th>\n",
       "      <td>Block C Kaderabad Housing Society Bosila Moham...</td>\n",
       "      <td>750</td>\n",
       "      <td>3</td>\n",
       "      <td>2</td>\n",
       "      <td>16000.0</td>\n",
       "      <td>21.333333</td>\n",
       "    </tr>\n",
       "    <tr>\n",
       "      <th>260</th>\n",
       "      <td>Faydabad Dakshin Khan Dhaka</td>\n",
       "      <td>800</td>\n",
       "      <td>3</td>\n",
       "      <td>2</td>\n",
       "      <td>8500.0</td>\n",
       "      <td>10.625000</td>\n",
       "    </tr>\n",
       "  </tbody>\n",
       "</table>\n",
       "</div>"
      ],
      "text/plain": [
       "                                              Location  Area  Bed  Bath  \\\n",
       "39                                               other   800    3     2   \n",
       "86                     Block C Section 13 Mirpur Dhaka   745    3     2   \n",
       "135                                              other   800    3     2   \n",
       "186                           Nayatola Maghbazar Dhaka   550    2     2   \n",
       "191           Baitul Aman Housing Society Adabor Dhaka   550    2     1   \n",
       "193                             Taltola Khilgaon Dhaka   550    2     1   \n",
       "195                         South Monipur Mirpur Dhaka   850    3     2   \n",
       "205                                              other   800    3     2   \n",
       "252  Block C Kaderabad Housing Society Bosila Moham...   750    3     2   \n",
       "260                        Faydabad Dakshin Khan Dhaka   800    3     2   \n",
       "\n",
       "       Price  price_per_sqft  \n",
       "39   15000.0       18.750000  \n",
       "86   15000.0       20.134228  \n",
       "135  15000.0       18.750000  \n",
       "186  13000.0       23.636364  \n",
       "191   8500.0       15.454545  \n",
       "193  11000.0       20.000000  \n",
       "195  13000.0       15.294118  \n",
       "205  15000.0       18.750000  \n",
       "252  16000.0       21.333333  \n",
       "260   8500.0       10.625000  "
      ]
     },
     "execution_count": 31,
     "metadata": {},
     "output_type": "execute_result"
    }
   ],
   "source": [
    "#now founding the unrealistic Area to Bed ratio according to my Civil engineer friend\n",
    "df1[df1.Area/df1.Bed<300].head(10)"
   ]
  },
  {
   "cell_type": "code",
   "execution_count": 32,
   "id": "28236ae2",
   "metadata": {
    "execution": {
     "iopub.execute_input": "2022-08-05T12:47:40.409699Z",
     "iopub.status.busy": "2022-08-05T12:47:40.409254Z",
     "iopub.status.idle": "2022-08-05T12:47:40.416133Z",
     "shell.execute_reply": "2022-08-05T12:47:40.415147Z"
    },
    "id": "2lhBG1TUFsD-",
    "outputId": "9061b4b3-f4a9-4589-b75b-939f4a3b056c",
    "papermill": {
     "duration": 0.027556,
     "end_time": "2022-08-05T12:47:40.418179",
     "exception": false,
     "start_time": "2022-08-05T12:47:40.390623",
     "status": "completed"
    },
    "tags": []
   },
   "outputs": [
    {
     "data": {
      "text/plain": [
       "(28800, 6)"
      ]
     },
     "execution_count": 32,
     "metadata": {},
     "output_type": "execute_result"
    }
   ],
   "source": [
    "df1.shape"
   ]
  },
  {
   "cell_type": "code",
   "execution_count": 33,
   "id": "df6cd3f4",
   "metadata": {
    "execution": {
     "iopub.execute_input": "2022-08-05T12:47:40.455789Z",
     "iopub.status.busy": "2022-08-05T12:47:40.455322Z",
     "iopub.status.idle": "2022-08-05T12:47:40.467011Z",
     "shell.execute_reply": "2022-08-05T12:47:40.465926Z"
    },
    "id": "c_Xe67mJFsD-",
    "outputId": "889638b0-dbce-489f-b140-17e72073af92",
    "papermill": {
     "duration": 0.033163,
     "end_time": "2022-08-05T12:47:40.469293",
     "exception": false,
     "start_time": "2022-08-05T12:47:40.436130",
     "status": "completed"
    },
    "tags": []
   },
   "outputs": [
    {
     "data": {
      "text/plain": [
       "(27876, 6)"
      ]
     },
     "execution_count": 33,
     "metadata": {},
     "output_type": "execute_result"
    }
   ],
   "source": [
    "#removing them from our df \n",
    "df2 = df1[~(df1.Area/df1.Bed<300)]\n",
    "df2.shape"
   ]
  },
  {
   "cell_type": "code",
   "execution_count": 34,
   "id": "c41c6602",
   "metadata": {
    "execution": {
     "iopub.execute_input": "2022-08-05T12:47:40.506696Z",
     "iopub.status.busy": "2022-08-05T12:47:40.505879Z",
     "iopub.status.idle": "2022-08-05T12:47:40.520072Z",
     "shell.execute_reply": "2022-08-05T12:47:40.519042Z"
    },
    "id": "7iFeHUWCFsD_",
    "outputId": "9b09a611-c23d-4c26-bf87-0d2c6df5273b",
    "papermill": {
     "duration": 0.035566,
     "end_time": "2022-08-05T12:47:40.522369",
     "exception": false,
     "start_time": "2022-08-05T12:47:40.486803",
     "status": "completed"
    },
    "tags": []
   },
   "outputs": [
    {
     "data": {
      "text/plain": [
       "count    27876.000000\n",
       "mean        18.946916\n",
       "std          6.575892\n",
       "min          6.500000\n",
       "25%         15.384615\n",
       "50%         18.000000\n",
       "75%         20.952381\n",
       "max        228.571429\n",
       "Name: price_per_sqft, dtype: float64"
      ]
     },
     "execution_count": 34,
     "metadata": {},
     "output_type": "execute_result"
    }
   ],
   "source": [
    "#Lets see the description of the 'price_per_sqft' \n",
    "df2.price_per_sqft.describe()"
   ]
  },
  {
   "cell_type": "code",
   "execution_count": 35,
   "id": "901f6785",
   "metadata": {
    "execution": {
     "iopub.execute_input": "2022-08-05T12:47:40.560791Z",
     "iopub.status.busy": "2022-08-05T12:47:40.559954Z",
     "iopub.status.idle": "2022-08-05T12:47:41.354310Z",
     "shell.execute_reply": "2022-08-05T12:47:41.352566Z"
    },
    "id": "h53JYm-uFsD_",
    "outputId": "5f73d0fa-c6dd-454c-d435-53dd004c9baa",
    "papermill": {
     "duration": 0.817369,
     "end_time": "2022-08-05T12:47:41.357791",
     "exception": false,
     "start_time": "2022-08-05T12:47:40.540422",
     "status": "completed"
    },
    "tags": []
   },
   "outputs": [
    {
     "data": {
      "text/plain": [
       "(19913, 6)"
      ]
     },
     "execution_count": 35,
     "metadata": {},
     "output_type": "execute_result"
    }
   ],
   "source": [
    "def drop_outliers(df):\n",
    "    df_out = pd.DataFrame()\n",
    "    for key, subdf in df.groupby('Location'):\n",
    "        m = np.mean(subdf.price_per_sqft)\n",
    "        st = np.std(subdf.price_per_sqft)\n",
    "        reduced_df = subdf[(subdf.price_per_sqft>(m-st)) & (subdf.price_per_sqft<=(m+st))]\n",
    "        df_out = pd.concat([df_out,reduced_df],ignore_index=True)\n",
    "    return df_out\n",
    "df3 = drop_outliers(df2)\n",
    "df3.shape"
   ]
  },
  {
   "cell_type": "code",
   "execution_count": 36,
   "id": "d4faef62",
   "metadata": {
    "execution": {
     "iopub.execute_input": "2022-08-05T12:47:41.396279Z",
     "iopub.status.busy": "2022-08-05T12:47:41.395879Z",
     "iopub.status.idle": "2022-08-05T12:47:41.726928Z",
     "shell.execute_reply": "2022-08-05T12:47:41.725850Z"
    },
    "id": "TmYsFH4MFsD_",
    "outputId": "2e6df2f0-d318-4b2b-9d16-77d01cc643c6",
    "papermill": {
     "duration": 0.353225,
     "end_time": "2022-08-05T12:47:41.729925",
     "exception": false,
     "start_time": "2022-08-05T12:47:41.376700",
     "status": "completed"
    },
    "tags": []
   },
   "outputs": [
    {
     "data": {
      "image/png": "[encoded data removed]",
      "text/plain": [
       "<Figure size 1080x720 with 1 Axes>"
      ]
     },
     "metadata": {
      "needs_background": "light"
     },
     "output_type": "display_data"
    }
   ],
   "source": [
    "#Building a scatter chart \n",
    "def plot_scatter_chart(df,Location):\n",
    "    bed2 = df[(df.Location==Location) & (df.Bed==2)]\n",
    "    bed3 = df[(df.Location==Location) & (df.Bed==3)]\n",
    "    matplotlib.rcParams['figure.figsize'] = (15,10)\n",
    "    plt.scatter(bed2.Area,bed2.Price,color='blue',label='2 Bed', s=50)\n",
    "    plt.scatter(bed3.Area,bed3.Price,marker='+', color='red',label='3 Bed', s=50)\n",
    "    plt.xlabel(\"Total Square Feet Area\")\n",
    "    plt.ylabel(\"Price (BDT)\")\n",
    "    plt.title(Location)\n",
    "    plt.legend()\n",
    "    \n",
    "plot_scatter_chart(df3,\"Shantinagar Dhaka\")"
   ]
  },
  {
   "cell_type": "code",
   "execution_count": 37,
   "id": "fb5063ea",
   "metadata": {
    "execution": {
     "iopub.execute_input": "2022-08-05T12:47:41.769797Z",
     "iopub.status.busy": "2022-08-05T12:47:41.768929Z",
     "iopub.status.idle": "2022-08-05T12:47:42.067278Z",
     "shell.execute_reply": "2022-08-05T12:47:42.066190Z"
    },
    "id": "RHUVUofmFsEA",
    "outputId": "22bfd398-6df1-46ae-d2b7-7484a4e6d405",
    "papermill": {
     "duration": 0.321135,
     "end_time": "2022-08-05T12:47:42.069845",
     "exception": false,
     "start_time": "2022-08-05T12:47:41.748710",
     "status": "completed"
    },
    "tags": []
   },
   "outputs": [
    {
     "data": {
      "image/png": "[encoded data removed]",
      "text/plain": [
       "<Figure size 1080x720 with 1 Axes>"
      ]
     },
     "metadata": {
      "needs_background": "light"
     },
     "output_type": "display_data"
    }
   ],
   "source": [
    "plot_scatter_chart(df3,\"Mirpur Dhaka\")"
   ]
  },
  {
   "cell_type": "code",
   "execution_count": 38,
   "id": "7f3d8d44",
   "metadata": {
    "execution": {
     "iopub.execute_input": "2022-08-05T12:47:42.110529Z",
     "iopub.status.busy": "2022-08-05T12:47:42.110140Z",
     "iopub.status.idle": "2022-08-05T12:47:42.349010Z",
     "shell.execute_reply": "2022-08-05T12:47:42.347872Z"
    },
    "id": "aw0YI1wTFsEA",
    "outputId": "24b7d551-8d78-48ed-8406-3df851233f07",
    "papermill": {
     "duration": 0.262168,
     "end_time": "2022-08-05T12:47:42.351507",
     "exception": false,
     "start_time": "2022-08-05T12:47:42.089339",
     "status": "completed"
    },
    "tags": []
   },
   "outputs": [
    {
     "data": {
      "text/plain": [
       "Text(0, 0.5, 'Count')"
      ]
     },
     "execution_count": 38,
     "metadata": {},
     "output_type": "execute_result"
    },
    {
     "data": {
      "image/png": "[encoded data removed]",
      "text/plain": [
       "<Figure size 720x720 with 1 Axes>"
      ]
     },
     "metadata": {
      "needs_background": "light"
     },
     "output_type": "display_data"
    }
   ],
   "source": [
    "matplotlib.rcParams[\"figure.figsize\"] = (10,10)\n",
    "plt.hist(df3.price_per_sqft,rwidth=0.5)\n",
    "plt.xlabel(\"Price Per Square Feet\")\n",
    "plt.ylabel(\"Count\")"
   ]
  },
  {
   "cell_type": "code",
   "execution_count": 39,
   "id": "fe1b8717",
   "metadata": {
    "execution": {
     "iopub.execute_input": "2022-08-05T12:47:42.392345Z",
     "iopub.status.busy": "2022-08-05T12:47:42.391267Z",
     "iopub.status.idle": "2022-08-05T12:47:42.407390Z",
     "shell.execute_reply": "2022-08-05T12:47:42.406644Z"
    },
    "id": "dAB5fjykFsEB",
    "outputId": "f4b75325-42e1-43d0-e1cc-a36c35013cd4",
    "papermill": {
     "duration": 0.038605,
     "end_time": "2022-08-05T12:47:42.409442",
     "exception": false,
     "start_time": "2022-08-05T12:47:42.370837",
     "status": "completed"
    },
    "tags": []
   },
   "outputs": [
    {
     "data": {
      "text/html": [
       "<div>\n",
       "<style scoped>\n",
       "    .dataframe tbody tr th:only-of-type {\n",
       "        vertical-align: middle;\n",
       "    }\n",
       "\n",
       "    .dataframe tbody tr th {\n",
       "        vertical-align: top;\n",
       "    }\n",
       "\n",
       "    .dataframe thead th {\n",
       "        text-align: right;\n",
       "    }\n",
       "</style>\n",
       "<table border=\"1\" class=\"dataframe\">\n",
       "  <thead>\n",
       "    <tr style=\"text-align: right;\">\n",
       "      <th></th>\n",
       "      <th>Location</th>\n",
       "      <th>Area</th>\n",
       "      <th>Bed</th>\n",
       "      <th>Bath</th>\n",
       "      <th>Price</th>\n",
       "      <th>price_per_sqft</th>\n",
       "    </tr>\n",
       "  </thead>\n",
       "  <tbody>\n",
       "    <tr>\n",
       "      <th>747</th>\n",
       "      <td>Avenue 6 Mirpur DOHS Mirpur Dhaka</td>\n",
       "      <td>2175</td>\n",
       "      <td>3</td>\n",
       "      <td>5</td>\n",
       "      <td>42000.0</td>\n",
       "      <td>19.310345</td>\n",
       "    </tr>\n",
       "    <tr>\n",
       "      <th>748</th>\n",
       "      <td>Avenue 6 Mirpur DOHS Mirpur Dhaka</td>\n",
       "      <td>2175</td>\n",
       "      <td>3</td>\n",
       "      <td>5</td>\n",
       "      <td>42000.0</td>\n",
       "      <td>19.310345</td>\n",
       "    </tr>\n",
       "    <tr>\n",
       "      <th>1227</th>\n",
       "      <td>Banani DOHS Dhaka</td>\n",
       "      <td>3000</td>\n",
       "      <td>3</td>\n",
       "      <td>5</td>\n",
       "      <td>130000.0</td>\n",
       "      <td>43.333333</td>\n",
       "    </tr>\n",
       "    <tr>\n",
       "      <th>1271</th>\n",
       "      <td>Banani Dhaka</td>\n",
       "      <td>2410</td>\n",
       "      <td>3</td>\n",
       "      <td>5</td>\n",
       "      <td>80000.0</td>\n",
       "      <td>33.195021</td>\n",
       "    </tr>\n",
       "    <tr>\n",
       "      <th>1688</th>\n",
       "      <td>Block A Bashundhara R-A Dhaka</td>\n",
       "      <td>2100</td>\n",
       "      <td>3</td>\n",
       "      <td>5</td>\n",
       "      <td>60000.0</td>\n",
       "      <td>28.571429</td>\n",
       "    </tr>\n",
       "    <tr>\n",
       "      <th>1689</th>\n",
       "      <td>Block A Bashundhara R-A Dhaka</td>\n",
       "      <td>2100</td>\n",
       "      <td>3</td>\n",
       "      <td>5</td>\n",
       "      <td>60000.0</td>\n",
       "      <td>28.571429</td>\n",
       "    </tr>\n",
       "    <tr>\n",
       "      <th>3967</th>\n",
       "      <td>Block D Bashundhara R-A Dhaka</td>\n",
       "      <td>3000</td>\n",
       "      <td>3</td>\n",
       "      <td>5</td>\n",
       "      <td>55000.0</td>\n",
       "      <td>18.333333</td>\n",
       "    </tr>\n",
       "    <tr>\n",
       "      <th>4038</th>\n",
       "      <td>Block D Bashundhara R-A Dhaka</td>\n",
       "      <td>1700</td>\n",
       "      <td>2</td>\n",
       "      <td>4</td>\n",
       "      <td>30000.0</td>\n",
       "      <td>17.647059</td>\n",
       "    </tr>\n",
       "    <tr>\n",
       "      <th>4112</th>\n",
       "      <td>Block D Bashundhara R-A Dhaka</td>\n",
       "      <td>2200</td>\n",
       "      <td>3</td>\n",
       "      <td>5</td>\n",
       "      <td>30000.0</td>\n",
       "      <td>13.636364</td>\n",
       "    </tr>\n",
       "    <tr>\n",
       "      <th>6097</th>\n",
       "      <td>Block J Baridhara Dhaka</td>\n",
       "      <td>2200</td>\n",
       "      <td>3</td>\n",
       "      <td>5</td>\n",
       "      <td>50000.0</td>\n",
       "      <td>22.727273</td>\n",
       "    </tr>\n",
       "    <tr>\n",
       "      <th>7067</th>\n",
       "      <td>Dhanmondi Dhaka</td>\n",
       "      <td>2200</td>\n",
       "      <td>3</td>\n",
       "      <td>5</td>\n",
       "      <td>62000.0</td>\n",
       "      <td>28.181818</td>\n",
       "    </tr>\n",
       "    <tr>\n",
       "      <th>7087</th>\n",
       "      <td>Dhanmondi Dhaka</td>\n",
       "      <td>2040</td>\n",
       "      <td>3</td>\n",
       "      <td>5</td>\n",
       "      <td>50000.0</td>\n",
       "      <td>24.509804</td>\n",
       "    </tr>\n",
       "    <tr>\n",
       "      <th>8111</th>\n",
       "      <td>Gulshan 2 Gulshan Dhaka</td>\n",
       "      <td>3000</td>\n",
       "      <td>2</td>\n",
       "      <td>4</td>\n",
       "      <td>160000.0</td>\n",
       "      <td>53.333333</td>\n",
       "    </tr>\n",
       "    <tr>\n",
       "      <th>14926</th>\n",
       "      <td>Sector 12 Uttara Dhaka</td>\n",
       "      <td>1650</td>\n",
       "      <td>3</td>\n",
       "      <td>5</td>\n",
       "      <td>29000.0</td>\n",
       "      <td>17.575758</td>\n",
       "    </tr>\n",
       "    <tr>\n",
       "      <th>15495</th>\n",
       "      <td>Sector 3 Uttara Dhaka</td>\n",
       "      <td>2300</td>\n",
       "      <td>2</td>\n",
       "      <td>4</td>\n",
       "      <td>50000.0</td>\n",
       "      <td>21.739130</td>\n",
       "    </tr>\n",
       "    <tr>\n",
       "      <th>15768</th>\n",
       "      <td>Sector 6 Uttara Dhaka</td>\n",
       "      <td>3000</td>\n",
       "      <td>3</td>\n",
       "      <td>5</td>\n",
       "      <td>70000.0</td>\n",
       "      <td>23.333333</td>\n",
       "    </tr>\n",
       "    <tr>\n",
       "      <th>16665</th>\n",
       "      <td>Shiddheswari Dhaka</td>\n",
       "      <td>2000</td>\n",
       "      <td>3</td>\n",
       "      <td>5</td>\n",
       "      <td>55000.0</td>\n",
       "      <td>27.500000</td>\n",
       "    </tr>\n",
       "    <tr>\n",
       "      <th>19770</th>\n",
       "      <td>other</td>\n",
       "      <td>2229</td>\n",
       "      <td>3</td>\n",
       "      <td>5</td>\n",
       "      <td>36000.0</td>\n",
       "      <td>16.150740</td>\n",
       "    </tr>\n",
       "  </tbody>\n",
       "</table>\n",
       "</div>"
      ],
      "text/plain": [
       "                                Location  Area  Bed  Bath     Price  \\\n",
       "747    Avenue 6 Mirpur DOHS Mirpur Dhaka  2175    3     5   42000.0   \n",
       "748    Avenue 6 Mirpur DOHS Mirpur Dhaka  2175    3     5   42000.0   \n",
       "1227                   Banani DOHS Dhaka  3000    3     5  130000.0   \n",
       "1271                        Banani Dhaka  2410    3     5   80000.0   \n",
       "1688       Block A Bashundhara R-A Dhaka  2100    3     5   60000.0   \n",
       "1689       Block A Bashundhara R-A Dhaka  2100    3     5   60000.0   \n",
       "3967       Block D Bashundhara R-A Dhaka  3000    3     5   55000.0   \n",
       "4038       Block D Bashundhara R-A Dhaka  1700    2     4   30000.0   \n",
       "4112       Block D Bashundhara R-A Dhaka  2200    3     5   30000.0   \n",
       "6097             Block J Baridhara Dhaka  2200    3     5   50000.0   \n",
       "7067                     Dhanmondi Dhaka  2200    3     5   62000.0   \n",
       "7087                     Dhanmondi Dhaka  2040    3     5   50000.0   \n",
       "8111             Gulshan 2 Gulshan Dhaka  3000    2     4  160000.0   \n",
       "14926             Sector 12 Uttara Dhaka  1650    3     5   29000.0   \n",
       "15495              Sector 3 Uttara Dhaka  2300    2     4   50000.0   \n",
       "15768              Sector 6 Uttara Dhaka  3000    3     5   70000.0   \n",
       "16665                 Shiddheswari Dhaka  2000    3     5   55000.0   \n",
       "19770                              other  2229    3     5   36000.0   \n",
       "\n",
       "       price_per_sqft  \n",
       "747         19.310345  \n",
       "748         19.310345  \n",
       "1227        43.333333  \n",
       "1271        33.195021  \n",
       "1688        28.571429  \n",
       "1689        28.571429  \n",
       "3967        18.333333  \n",
       "4038        17.647059  \n",
       "4112        13.636364  \n",
       "6097        22.727273  \n",
       "7067        28.181818  \n",
       "7087        24.509804  \n",
       "8111        53.333333  \n",
       "14926       17.575758  \n",
       "15495       21.739130  \n",
       "15768       23.333333  \n",
       "16665       27.500000  \n",
       "19770       16.150740  "
      ]
     },
     "execution_count": 39,
     "metadata": {},
     "output_type": "execute_result"
    }
   ],
   "source": [
    "df3[df3.Bath>df3.Bed+1] # this number of bed to bath ratio seems normal so not droping them "
   ]
  },
  {
   "cell_type": "markdown",
   "id": "9726969f",
   "metadata": {
    "id": "Qz0PpcAZJknU",
    "papermill": {
     "duration": 0.019809,
     "end_time": "2022-08-05T12:47:42.448986",
     "exception": false,
     "start_time": "2022-08-05T12:47:42.429177",
     "status": "completed"
    },
    "tags": []
   },
   "source": [
    "# Bulding categorical data"
   ]
  },
  {
   "cell_type": "code",
   "execution_count": 40,
   "id": "51a5d300",
   "metadata": {
    "execution": {
     "iopub.execute_input": "2022-08-05T12:47:42.490542Z",
     "iopub.status.busy": "2022-08-05T12:47:42.489288Z",
     "iopub.status.idle": "2022-08-05T12:47:42.561553Z",
     "shell.execute_reply": "2022-08-05T12:47:42.560612Z"
    },
    "id": "NtQhOJuVFsEB",
    "outputId": "bd77a54c-53b7-4603-8c3b-c659863b7d0e",
    "papermill": {
     "duration": 0.095399,
     "end_time": "2022-08-05T12:47:42.564111",
     "exception": false,
     "start_time": "2022-08-05T12:47:42.468712",
     "status": "completed"
    },
    "tags": []
   },
   "outputs": [
    {
     "data": {
      "text/html": [
       "<div>\n",
       "<style scoped>\n",
       "    .dataframe tbody tr th:only-of-type {\n",
       "        vertical-align: middle;\n",
       "    }\n",
       "\n",
       "    .dataframe tbody tr th {\n",
       "        vertical-align: top;\n",
       "    }\n",
       "\n",
       "    .dataframe thead th {\n",
       "        text-align: right;\n",
       "    }\n",
       "</style>\n",
       "<table border=\"1\" class=\"dataframe\">\n",
       "  <thead>\n",
       "    <tr style=\"text-align: right;\">\n",
       "      <th></th>\n",
       "      <th>1st Colony Mirpur Dhaka</th>\n",
       "      <th>2nd Colony Mirpur Dhaka</th>\n",
       "      <th>3rd Colony Mirpur Dhaka</th>\n",
       "      <th>Aainusbag Dakshin Khan Dhaka</th>\n",
       "      <th>Abdullahbag Uttar Badda Badda Dhaka</th>\n",
       "      <th>Abdur Rafique Housing Society Shekhertek Mohammadpur Dhaka</th>\n",
       "      <th>Adabor Dhaka</th>\n",
       "      <th>Adarsha Para Uttar Khan Dhaka</th>\n",
       "      <th>Agargaon Dhaka</th>\n",
       "      <th>Ahmed Nagar Mirpur Dhaka</th>\n",
       "      <th>...</th>\n",
       "      <th>West Kazipara Mirpur Dhaka</th>\n",
       "      <th>West Mollartek Dakshin Khan Dhaka</th>\n",
       "      <th>West Monipur Mirpur Dhaka</th>\n",
       "      <th>West Nakhalpara Tejgaon Dhaka</th>\n",
       "      <th>West Rampura Rampura Dhaka</th>\n",
       "      <th>West Shewrapara Mirpur Dhaka</th>\n",
       "      <th>West Vatara Vatara Badda Dhaka</th>\n",
       "      <th>Zafrabad Hazaribag Dhaka</th>\n",
       "      <th>aziz Moholla Mohammadpur Dhaka</th>\n",
       "      <th>other</th>\n",
       "    </tr>\n",
       "  </thead>\n",
       "  <tbody>\n",
       "    <tr>\n",
       "      <th>0</th>\n",
       "      <td>1</td>\n",
       "      <td>0</td>\n",
       "      <td>0</td>\n",
       "      <td>0</td>\n",
       "      <td>0</td>\n",
       "      <td>0</td>\n",
       "      <td>0</td>\n",
       "      <td>0</td>\n",
       "      <td>0</td>\n",
       "      <td>0</td>\n",
       "      <td>...</td>\n",
       "      <td>0</td>\n",
       "      <td>0</td>\n",
       "      <td>0</td>\n",
       "      <td>0</td>\n",
       "      <td>0</td>\n",
       "      <td>0</td>\n",
       "      <td>0</td>\n",
       "      <td>0</td>\n",
       "      <td>0</td>\n",
       "      <td>0</td>\n",
       "    </tr>\n",
       "    <tr>\n",
       "      <th>1</th>\n",
       "      <td>1</td>\n",
       "      <td>0</td>\n",
       "      <td>0</td>\n",
       "      <td>0</td>\n",
       "      <td>0</td>\n",
       "      <td>0</td>\n",
       "      <td>0</td>\n",
       "      <td>0</td>\n",
       "      <td>0</td>\n",
       "      <td>0</td>\n",
       "      <td>...</td>\n",
       "      <td>0</td>\n",
       "      <td>0</td>\n",
       "      <td>0</td>\n",
       "      <td>0</td>\n",
       "      <td>0</td>\n",
       "      <td>0</td>\n",
       "      <td>0</td>\n",
       "      <td>0</td>\n",
       "      <td>0</td>\n",
       "      <td>0</td>\n",
       "    </tr>\n",
       "    <tr>\n",
       "      <th>2</th>\n",
       "      <td>1</td>\n",
       "      <td>0</td>\n",
       "      <td>0</td>\n",
       "      <td>0</td>\n",
       "      <td>0</td>\n",
       "      <td>0</td>\n",
       "      <td>0</td>\n",
       "      <td>0</td>\n",
       "      <td>0</td>\n",
       "      <td>0</td>\n",
       "      <td>...</td>\n",
       "      <td>0</td>\n",
       "      <td>0</td>\n",
       "      <td>0</td>\n",
       "      <td>0</td>\n",
       "      <td>0</td>\n",
       "      <td>0</td>\n",
       "      <td>0</td>\n",
       "      <td>0</td>\n",
       "      <td>0</td>\n",
       "      <td>0</td>\n",
       "    </tr>\n",
       "    <tr>\n",
       "      <th>3</th>\n",
       "      <td>1</td>\n",
       "      <td>0</td>\n",
       "      <td>0</td>\n",
       "      <td>0</td>\n",
       "      <td>0</td>\n",
       "      <td>0</td>\n",
       "      <td>0</td>\n",
       "      <td>0</td>\n",
       "      <td>0</td>\n",
       "      <td>0</td>\n",
       "      <td>...</td>\n",
       "      <td>0</td>\n",
       "      <td>0</td>\n",
       "      <td>0</td>\n",
       "      <td>0</td>\n",
       "      <td>0</td>\n",
       "      <td>0</td>\n",
       "      <td>0</td>\n",
       "      <td>0</td>\n",
       "      <td>0</td>\n",
       "      <td>0</td>\n",
       "    </tr>\n",
       "    <tr>\n",
       "      <th>4</th>\n",
       "      <td>1</td>\n",
       "      <td>0</td>\n",
       "      <td>0</td>\n",
       "      <td>0</td>\n",
       "      <td>0</td>\n",
       "      <td>0</td>\n",
       "      <td>0</td>\n",
       "      <td>0</td>\n",
       "      <td>0</td>\n",
       "      <td>0</td>\n",
       "      <td>...</td>\n",
       "      <td>0</td>\n",
       "      <td>0</td>\n",
       "      <td>0</td>\n",
       "      <td>0</td>\n",
       "      <td>0</td>\n",
       "      <td>0</td>\n",
       "      <td>0</td>\n",
       "      <td>0</td>\n",
       "      <td>0</td>\n",
       "      <td>0</td>\n",
       "    </tr>\n",
       "  </tbody>\n",
       "</table>\n",
       "<p>5 rows × 416 columns</p>\n",
       "</div>"
      ],
      "text/plain": [
       "   1st Colony Mirpur Dhaka  2nd Colony Mirpur Dhaka  3rd Colony Mirpur Dhaka  \\\n",
       "0                        1                        0                        0   \n",
       "1                        1                        0                        0   \n",
       "2                        1                        0                        0   \n",
       "3                        1                        0                        0   \n",
       "4                        1                        0                        0   \n",
       "\n",
       "   Aainusbag Dakshin Khan Dhaka  Abdullahbag Uttar Badda Badda Dhaka  \\\n",
       "0                             0                                    0   \n",
       "1                             0                                    0   \n",
       "2                             0                                    0   \n",
       "3                             0                                    0   \n",
       "4                             0                                    0   \n",
       "\n",
       "   Abdur Rafique Housing Society Shekhertek Mohammadpur Dhaka  Adabor Dhaka  \\\n",
       "0                                                  0                      0   \n",
       "1                                                  0                      0   \n",
       "2                                                  0                      0   \n",
       "3                                                  0                      0   \n",
       "4                                                  0                      0   \n",
       "\n",
       "   Adarsha Para Uttar Khan Dhaka  Agargaon Dhaka  Ahmed Nagar Mirpur Dhaka  \\\n",
       "0                              0               0                         0   \n",
       "1                              0               0                         0   \n",
       "2                              0               0                         0   \n",
       "3                              0               0                         0   \n",
       "4                              0               0                         0   \n",
       "\n",
       "   ...  West Kazipara Mirpur Dhaka  West Mollartek Dakshin Khan Dhaka  \\\n",
       "0  ...                           0                                  0   \n",
       "1  ...                           0                                  0   \n",
       "2  ...                           0                                  0   \n",
       "3  ...                           0                                  0   \n",
       "4  ...                           0                                  0   \n",
       "\n",
       "   West Monipur Mirpur Dhaka  West Nakhalpara Tejgaon Dhaka  \\\n",
       "0                          0                              0   \n",
       "1                          0                              0   \n",
       "2                          0                              0   \n",
       "3                          0                              0   \n",
       "4                          0                              0   \n",
       "\n",
       "   West Rampura Rampura Dhaka  West Shewrapara Mirpur Dhaka  \\\n",
       "0                           0                             0   \n",
       "1                           0                             0   \n",
       "2                           0                             0   \n",
       "3                           0                             0   \n",
       "4                           0                             0   \n",
       "\n",
       "   West Vatara Vatara Badda Dhaka  Zafrabad Hazaribag Dhaka  \\\n",
       "0                               0                         0   \n",
       "1                               0                         0   \n",
       "2                               0                         0   \n",
       "3                               0                         0   \n",
       "4                               0                         0   \n",
       "\n",
       "   aziz Moholla Mohammadpur Dhaka  other  \n",
       "0                               0      0  \n",
       "1                               0      0  \n",
       "2                               0      0  \n",
       "3                               0      0  \n",
       "4                               0      0  \n",
       "\n",
       "[5 rows x 416 columns]"
      ]
     },
     "execution_count": 40,
     "metadata": {},
     "output_type": "execute_result"
    }
   ],
   "source": [
    "dummies = pd.get_dummies(df3.Location)\n",
    "dummies.head()"
   ]
  },
  {
   "cell_type": "code",
   "execution_count": 41,
   "id": "94d21dc8",
   "metadata": {
    "execution": {
     "iopub.execute_input": "2022-08-05T12:47:42.606857Z",
     "iopub.status.busy": "2022-08-05T12:47:42.605568Z",
     "iopub.status.idle": "2022-08-05T12:47:42.652347Z",
     "shell.execute_reply": "2022-08-05T12:47:42.651530Z"
    },
    "id": "Ki0SJQx7FsEB",
    "outputId": "179d4371-44aa-4071-c4f3-329d7a7e3e40",
    "papermill": {
     "duration": 0.070083,
     "end_time": "2022-08-05T12:47:42.654475",
     "exception": false,
     "start_time": "2022-08-05T12:47:42.584392",
     "status": "completed"
    },
    "tags": []
   },
   "outputs": [
    {
     "data": {
      "text/html": [
       "<div>\n",
       "<style scoped>\n",
       "    .dataframe tbody tr th:only-of-type {\n",
       "        vertical-align: middle;\n",
       "    }\n",
       "\n",
       "    .dataframe tbody tr th {\n",
       "        vertical-align: top;\n",
       "    }\n",
       "\n",
       "    .dataframe thead th {\n",
       "        text-align: right;\n",
       "    }\n",
       "</style>\n",
       "<table border=\"1\" class=\"dataframe\">\n",
       "  <thead>\n",
       "    <tr style=\"text-align: right;\">\n",
       "      <th></th>\n",
       "      <th>Location</th>\n",
       "      <th>Area</th>\n",
       "      <th>Bed</th>\n",
       "      <th>Bath</th>\n",
       "      <th>Price</th>\n",
       "      <th>price_per_sqft</th>\n",
       "      <th>1st Colony Mirpur Dhaka</th>\n",
       "      <th>2nd Colony Mirpur Dhaka</th>\n",
       "      <th>3rd Colony Mirpur Dhaka</th>\n",
       "      <th>Aainusbag Dakshin Khan Dhaka</th>\n",
       "      <th>...</th>\n",
       "      <th>West Kalachandpur Kalachandpur Dhaka</th>\n",
       "      <th>West Kazipara Mirpur Dhaka</th>\n",
       "      <th>West Mollartek Dakshin Khan Dhaka</th>\n",
       "      <th>West Monipur Mirpur Dhaka</th>\n",
       "      <th>West Nakhalpara Tejgaon Dhaka</th>\n",
       "      <th>West Rampura Rampura Dhaka</th>\n",
       "      <th>West Shewrapara Mirpur Dhaka</th>\n",
       "      <th>West Vatara Vatara Badda Dhaka</th>\n",
       "      <th>Zafrabad Hazaribag Dhaka</th>\n",
       "      <th>aziz Moholla Mohammadpur Dhaka</th>\n",
       "    </tr>\n",
       "  </thead>\n",
       "  <tbody>\n",
       "    <tr>\n",
       "      <th>0</th>\n",
       "      <td>1st Colony Mirpur Dhaka</td>\n",
       "      <td>800</td>\n",
       "      <td>2</td>\n",
       "      <td>2</td>\n",
       "      <td>13500.0</td>\n",
       "      <td>16.875000</td>\n",
       "      <td>1</td>\n",
       "      <td>0</td>\n",
       "      <td>0</td>\n",
       "      <td>0</td>\n",
       "      <td>...</td>\n",
       "      <td>0</td>\n",
       "      <td>0</td>\n",
       "      <td>0</td>\n",
       "      <td>0</td>\n",
       "      <td>0</td>\n",
       "      <td>0</td>\n",
       "      <td>0</td>\n",
       "      <td>0</td>\n",
       "      <td>0</td>\n",
       "      <td>0</td>\n",
       "    </tr>\n",
       "    <tr>\n",
       "      <th>1</th>\n",
       "      <td>1st Colony Mirpur Dhaka</td>\n",
       "      <td>700</td>\n",
       "      <td>2</td>\n",
       "      <td>2</td>\n",
       "      <td>12000.0</td>\n",
       "      <td>17.142857</td>\n",
       "      <td>1</td>\n",
       "      <td>0</td>\n",
       "      <td>0</td>\n",
       "      <td>0</td>\n",
       "      <td>...</td>\n",
       "      <td>0</td>\n",
       "      <td>0</td>\n",
       "      <td>0</td>\n",
       "      <td>0</td>\n",
       "      <td>0</td>\n",
       "      <td>0</td>\n",
       "      <td>0</td>\n",
       "      <td>0</td>\n",
       "      <td>0</td>\n",
       "      <td>0</td>\n",
       "    </tr>\n",
       "    <tr>\n",
       "      <th>2</th>\n",
       "      <td>1st Colony Mirpur Dhaka</td>\n",
       "      <td>1100</td>\n",
       "      <td>3</td>\n",
       "      <td>3</td>\n",
       "      <td>20000.0</td>\n",
       "      <td>18.181818</td>\n",
       "      <td>1</td>\n",
       "      <td>0</td>\n",
       "      <td>0</td>\n",
       "      <td>0</td>\n",
       "      <td>...</td>\n",
       "      <td>0</td>\n",
       "      <td>0</td>\n",
       "      <td>0</td>\n",
       "      <td>0</td>\n",
       "      <td>0</td>\n",
       "      <td>0</td>\n",
       "      <td>0</td>\n",
       "      <td>0</td>\n",
       "      <td>0</td>\n",
       "      <td>0</td>\n",
       "    </tr>\n",
       "    <tr>\n",
       "      <th>3</th>\n",
       "      <td>1st Colony Mirpur Dhaka</td>\n",
       "      <td>1100</td>\n",
       "      <td>3</td>\n",
       "      <td>3</td>\n",
       "      <td>20000.0</td>\n",
       "      <td>18.181818</td>\n",
       "      <td>1</td>\n",
       "      <td>0</td>\n",
       "      <td>0</td>\n",
       "      <td>0</td>\n",
       "      <td>...</td>\n",
       "      <td>0</td>\n",
       "      <td>0</td>\n",
       "      <td>0</td>\n",
       "      <td>0</td>\n",
       "      <td>0</td>\n",
       "      <td>0</td>\n",
       "      <td>0</td>\n",
       "      <td>0</td>\n",
       "      <td>0</td>\n",
       "      <td>0</td>\n",
       "    </tr>\n",
       "    <tr>\n",
       "      <th>4</th>\n",
       "      <td>1st Colony Mirpur Dhaka</td>\n",
       "      <td>1020</td>\n",
       "      <td>3</td>\n",
       "      <td>2</td>\n",
       "      <td>15000.0</td>\n",
       "      <td>14.705882</td>\n",
       "      <td>1</td>\n",
       "      <td>0</td>\n",
       "      <td>0</td>\n",
       "      <td>0</td>\n",
       "      <td>...</td>\n",
       "      <td>0</td>\n",
       "      <td>0</td>\n",
       "      <td>0</td>\n",
       "      <td>0</td>\n",
       "      <td>0</td>\n",
       "      <td>0</td>\n",
       "      <td>0</td>\n",
       "      <td>0</td>\n",
       "      <td>0</td>\n",
       "      <td>0</td>\n",
       "    </tr>\n",
       "  </tbody>\n",
       "</table>\n",
       "<p>5 rows × 421 columns</p>\n",
       "</div>"
      ],
      "text/plain": [
       "                  Location  Area  Bed  Bath    Price  price_per_sqft  \\\n",
       "0  1st Colony Mirpur Dhaka   800    2     2  13500.0       16.875000   \n",
       "1  1st Colony Mirpur Dhaka   700    2     2  12000.0       17.142857   \n",
       "2  1st Colony Mirpur Dhaka  1100    3     3  20000.0       18.181818   \n",
       "3  1st Colony Mirpur Dhaka  1100    3     3  20000.0       18.181818   \n",
       "4  1st Colony Mirpur Dhaka  1020    3     2  15000.0       14.705882   \n",
       "\n",
       "   1st Colony Mirpur Dhaka  2nd Colony Mirpur Dhaka  3rd Colony Mirpur Dhaka  \\\n",
       "0                        1                        0                        0   \n",
       "1                        1                        0                        0   \n",
       "2                        1                        0                        0   \n",
       "3                        1                        0                        0   \n",
       "4                        1                        0                        0   \n",
       "\n",
       "   Aainusbag Dakshin Khan Dhaka  ...  West Kalachandpur Kalachandpur Dhaka  \\\n",
       "0                             0  ...                                     0   \n",
       "1                             0  ...                                     0   \n",
       "2                             0  ...                                     0   \n",
       "3                             0  ...                                     0   \n",
       "4                             0  ...                                     0   \n",
       "\n",
       "   West Kazipara Mirpur Dhaka  West Mollartek Dakshin Khan Dhaka  \\\n",
       "0                           0                                  0   \n",
       "1                           0                                  0   \n",
       "2                           0                                  0   \n",
       "3                           0                                  0   \n",
       "4                           0                                  0   \n",
       "\n",
       "   West Monipur Mirpur Dhaka  West Nakhalpara Tejgaon Dhaka  \\\n",
       "0                          0                              0   \n",
       "1                          0                              0   \n",
       "2                          0                              0   \n",
       "3                          0                              0   \n",
       "4                          0                              0   \n",
       "\n",
       "   West Rampura Rampura Dhaka  West Shewrapara Mirpur Dhaka  \\\n",
       "0                           0                             0   \n",
       "1                           0                             0   \n",
       "2                           0                             0   \n",
       "3                           0                             0   \n",
       "4                           0                             0   \n",
       "\n",
       "   West Vatara Vatara Badda Dhaka  Zafrabad Hazaribag Dhaka  \\\n",
       "0                               0                         0   \n",
       "1                               0                         0   \n",
       "2                               0                         0   \n",
       "3                               0                         0   \n",
       "4                               0                         0   \n",
       "\n",
       "   aziz Moholla Mohammadpur Dhaka  \n",
       "0                               0  \n",
       "1                               0  \n",
       "2                               0  \n",
       "3                               0  \n",
       "4                               0  \n",
       "\n",
       "[5 rows x 421 columns]"
      ]
     },
     "execution_count": 41,
     "metadata": {},
     "output_type": "execute_result"
    }
   ],
   "source": [
    "df4 = pd.concat([df3,dummies.drop('other',axis='columns')],axis='columns')\n",
    "df4.head()"
   ]
  },
  {
   "cell_type": "code",
   "execution_count": 42,
   "id": "a7b75270",
   "metadata": {
    "execution": {
     "iopub.execute_input": "2022-08-05T12:47:42.697376Z",
     "iopub.status.busy": "2022-08-05T12:47:42.696668Z",
     "iopub.status.idle": "2022-08-05T12:47:42.734088Z",
     "shell.execute_reply": "2022-08-05T12:47:42.732757Z"
    },
    "id": "c-uIus7EFsEC",
    "outputId": "6486f775-4620-4e80-809a-92f10de6af52",
    "papermill": {
     "duration": 0.06157,
     "end_time": "2022-08-05T12:47:42.736658",
     "exception": false,
     "start_time": "2022-08-05T12:47:42.675088",
     "status": "completed"
    },
    "tags": []
   },
   "outputs": [
    {
     "data": {
      "text/html": [
       "<div>\n",
       "<style scoped>\n",
       "    .dataframe tbody tr th:only-of-type {\n",
       "        vertical-align: middle;\n",
       "    }\n",
       "\n",
       "    .dataframe tbody tr th {\n",
       "        vertical-align: top;\n",
       "    }\n",
       "\n",
       "    .dataframe thead th {\n",
       "        text-align: right;\n",
       "    }\n",
       "</style>\n",
       "<table border=\"1\" class=\"dataframe\">\n",
       "  <thead>\n",
       "    <tr style=\"text-align: right;\">\n",
       "      <th></th>\n",
       "      <th>Area</th>\n",
       "      <th>Bed</th>\n",
       "      <th>Bath</th>\n",
       "      <th>Price</th>\n",
       "      <th>price_per_sqft</th>\n",
       "      <th>1st Colony Mirpur Dhaka</th>\n",
       "      <th>2nd Colony Mirpur Dhaka</th>\n",
       "      <th>3rd Colony Mirpur Dhaka</th>\n",
       "      <th>Aainusbag Dakshin Khan Dhaka</th>\n",
       "      <th>Abdullahbag Uttar Badda Badda Dhaka</th>\n",
       "      <th>...</th>\n",
       "      <th>West Kalachandpur Kalachandpur Dhaka</th>\n",
       "      <th>West Kazipara Mirpur Dhaka</th>\n",
       "      <th>West Mollartek Dakshin Khan Dhaka</th>\n",
       "      <th>West Monipur Mirpur Dhaka</th>\n",
       "      <th>West Nakhalpara Tejgaon Dhaka</th>\n",
       "      <th>West Rampura Rampura Dhaka</th>\n",
       "      <th>West Shewrapara Mirpur Dhaka</th>\n",
       "      <th>West Vatara Vatara Badda Dhaka</th>\n",
       "      <th>Zafrabad Hazaribag Dhaka</th>\n",
       "      <th>aziz Moholla Mohammadpur Dhaka</th>\n",
       "    </tr>\n",
       "  </thead>\n",
       "  <tbody>\n",
       "    <tr>\n",
       "      <th>0</th>\n",
       "      <td>800</td>\n",
       "      <td>2</td>\n",
       "      <td>2</td>\n",
       "      <td>13500.0</td>\n",
       "      <td>16.875000</td>\n",
       "      <td>1</td>\n",
       "      <td>0</td>\n",
       "      <td>0</td>\n",
       "      <td>0</td>\n",
       "      <td>0</td>\n",
       "      <td>...</td>\n",
       "      <td>0</td>\n",
       "      <td>0</td>\n",
       "      <td>0</td>\n",
       "      <td>0</td>\n",
       "      <td>0</td>\n",
       "      <td>0</td>\n",
       "      <td>0</td>\n",
       "      <td>0</td>\n",
       "      <td>0</td>\n",
       "      <td>0</td>\n",
       "    </tr>\n",
       "    <tr>\n",
       "      <th>1</th>\n",
       "      <td>700</td>\n",
       "      <td>2</td>\n",
       "      <td>2</td>\n",
       "      <td>12000.0</td>\n",
       "      <td>17.142857</td>\n",
       "      <td>1</td>\n",
       "      <td>0</td>\n",
       "      <td>0</td>\n",
       "      <td>0</td>\n",
       "      <td>0</td>\n",
       "      <td>...</td>\n",
       "      <td>0</td>\n",
       "      <td>0</td>\n",
       "      <td>0</td>\n",
       "      <td>0</td>\n",
       "      <td>0</td>\n",
       "      <td>0</td>\n",
       "      <td>0</td>\n",
       "      <td>0</td>\n",
       "      <td>0</td>\n",
       "      <td>0</td>\n",
       "    </tr>\n",
       "    <tr>\n",
       "      <th>2</th>\n",
       "      <td>1100</td>\n",
       "      <td>3</td>\n",
       "      <td>3</td>\n",
       "      <td>20000.0</td>\n",
       "      <td>18.181818</td>\n",
       "      <td>1</td>\n",
       "      <td>0</td>\n",
       "      <td>0</td>\n",
       "      <td>0</td>\n",
       "      <td>0</td>\n",
       "      <td>...</td>\n",
       "      <td>0</td>\n",
       "      <td>0</td>\n",
       "      <td>0</td>\n",
       "      <td>0</td>\n",
       "      <td>0</td>\n",
       "      <td>0</td>\n",
       "      <td>0</td>\n",
       "      <td>0</td>\n",
       "      <td>0</td>\n",
       "      <td>0</td>\n",
       "    </tr>\n",
       "    <tr>\n",
       "      <th>3</th>\n",
       "      <td>1100</td>\n",
       "      <td>3</td>\n",
       "      <td>3</td>\n",
       "      <td>20000.0</td>\n",
       "      <td>18.181818</td>\n",
       "      <td>1</td>\n",
       "      <td>0</td>\n",
       "      <td>0</td>\n",
       "      <td>0</td>\n",
       "      <td>0</td>\n",
       "      <td>...</td>\n",
       "      <td>0</td>\n",
       "      <td>0</td>\n",
       "      <td>0</td>\n",
       "      <td>0</td>\n",
       "      <td>0</td>\n",
       "      <td>0</td>\n",
       "      <td>0</td>\n",
       "      <td>0</td>\n",
       "      <td>0</td>\n",
       "      <td>0</td>\n",
       "    </tr>\n",
       "    <tr>\n",
       "      <th>4</th>\n",
       "      <td>1020</td>\n",
       "      <td>3</td>\n",
       "      <td>2</td>\n",
       "      <td>15000.0</td>\n",
       "      <td>14.705882</td>\n",
       "      <td>1</td>\n",
       "      <td>0</td>\n",
       "      <td>0</td>\n",
       "      <td>0</td>\n",
       "      <td>0</td>\n",
       "      <td>...</td>\n",
       "      <td>0</td>\n",
       "      <td>0</td>\n",
       "      <td>0</td>\n",
       "      <td>0</td>\n",
       "      <td>0</td>\n",
       "      <td>0</td>\n",
       "      <td>0</td>\n",
       "      <td>0</td>\n",
       "      <td>0</td>\n",
       "      <td>0</td>\n",
       "    </tr>\n",
       "  </tbody>\n",
       "</table>\n",
       "<p>5 rows × 420 columns</p>\n",
       "</div>"
      ],
      "text/plain": [
       "   Area  Bed  Bath    Price  price_per_sqft  1st Colony Mirpur Dhaka  \\\n",
       "0   800    2     2  13500.0       16.875000                        1   \n",
       "1   700    2     2  12000.0       17.142857                        1   \n",
       "2  1100    3     3  20000.0       18.181818                        1   \n",
       "3  1100    3     3  20000.0       18.181818                        1   \n",
       "4  1020    3     2  15000.0       14.705882                        1   \n",
       "\n",
       "   2nd Colony Mirpur Dhaka  3rd Colony Mirpur Dhaka  \\\n",
       "0                        0                        0   \n",
       "1                        0                        0   \n",
       "2                        0                        0   \n",
       "3                        0                        0   \n",
       "4                        0                        0   \n",
       "\n",
       "   Aainusbag Dakshin Khan Dhaka  Abdullahbag Uttar Badda Badda Dhaka  ...  \\\n",
       "0                             0                                    0  ...   \n",
       "1                             0                                    0  ...   \n",
       "2                             0                                    0  ...   \n",
       "3                             0                                    0  ...   \n",
       "4                             0                                    0  ...   \n",
       "\n",
       "   West Kalachandpur Kalachandpur Dhaka  West Kazipara Mirpur Dhaka  \\\n",
       "0                                     0                           0   \n",
       "1                                     0                           0   \n",
       "2                                     0                           0   \n",
       "3                                     0                           0   \n",
       "4                                     0                           0   \n",
       "\n",
       "   West Mollartek Dakshin Khan Dhaka  West Monipur Mirpur Dhaka  \\\n",
       "0                                  0                          0   \n",
       "1                                  0                          0   \n",
       "2                                  0                          0   \n",
       "3                                  0                          0   \n",
       "4                                  0                          0   \n",
       "\n",
       "   West Nakhalpara Tejgaon Dhaka  West Rampura Rampura Dhaka  \\\n",
       "0                              0                           0   \n",
       "1                              0                           0   \n",
       "2                              0                           0   \n",
       "3                              0                           0   \n",
       "4                              0                           0   \n",
       "\n",
       "   West Shewrapara Mirpur Dhaka  West Vatara Vatara Badda Dhaka  \\\n",
       "0                             0                               0   \n",
       "1                             0                               0   \n",
       "2                             0                               0   \n",
       "3                             0                               0   \n",
       "4                             0                               0   \n",
       "\n",
       "   Zafrabad Hazaribag Dhaka  aziz Moholla Mohammadpur Dhaka  \n",
       "0                         0                               0  \n",
       "1                         0                               0  \n",
       "2                         0                               0  \n",
       "3                         0                               0  \n",
       "4                         0                               0  \n",
       "\n",
       "[5 rows x 420 columns]"
      ]
     },
     "execution_count": 42,
     "metadata": {},
     "output_type": "execute_result"
    }
   ],
   "source": [
    "df5 = df4.drop('Location',axis='columns') \n",
    "df5.head()"
   ]
  },
  {
   "cell_type": "markdown",
   "id": "1a86f37b",
   "metadata": {
    "id": "e-Qe1L0IFsEC",
    "papermill": {
     "duration": 0.026027,
     "end_time": "2022-08-05T12:47:42.784095",
     "exception": false,
     "start_time": "2022-08-05T12:47:42.758068",
     "status": "completed"
    },
    "tags": []
   },
   "source": [
    "## Model Building "
   ]
  },
  {
   "cell_type": "code",
   "execution_count": 43,
   "id": "b3f765fe",
   "metadata": {
    "execution": {
     "iopub.execute_input": "2022-08-05T12:47:42.827287Z",
     "iopub.status.busy": "2022-08-05T12:47:42.826860Z",
     "iopub.status.idle": "2022-08-05T12:47:42.855189Z",
     "shell.execute_reply": "2022-08-05T12:47:42.853988Z"
    },
    "id": "dhOn7jUKFsED",
    "outputId": "55368853-1c3e-4f07-cdeb-de8dbaf5b836",
    "papermill": {
     "duration": 0.052846,
     "end_time": "2022-08-05T12:47:42.857848",
     "exception": false,
     "start_time": "2022-08-05T12:47:42.805002",
     "status": "completed"
    },
    "tags": []
   },
   "outputs": [
    {
     "data": {
      "text/html": [
       "<div>\n",
       "<style scoped>\n",
       "    .dataframe tbody tr th:only-of-type {\n",
       "        vertical-align: middle;\n",
       "    }\n",
       "\n",
       "    .dataframe tbody tr th {\n",
       "        vertical-align: top;\n",
       "    }\n",
       "\n",
       "    .dataframe thead th {\n",
       "        text-align: right;\n",
       "    }\n",
       "</style>\n",
       "<table border=\"1\" class=\"dataframe\">\n",
       "  <thead>\n",
       "    <tr style=\"text-align: right;\">\n",
       "      <th></th>\n",
       "      <th>Area</th>\n",
       "      <th>Bed</th>\n",
       "      <th>Bath</th>\n",
       "      <th>1st Colony Mirpur Dhaka</th>\n",
       "      <th>2nd Colony Mirpur Dhaka</th>\n",
       "      <th>3rd Colony Mirpur Dhaka</th>\n",
       "      <th>Aainusbag Dakshin Khan Dhaka</th>\n",
       "      <th>Abdullahbag Uttar Badda Badda Dhaka</th>\n",
       "      <th>Abdur Rafique Housing Society Shekhertek Mohammadpur Dhaka</th>\n",
       "      <th>Adabor Dhaka</th>\n",
       "      <th>...</th>\n",
       "      <th>West Kalachandpur Kalachandpur Dhaka</th>\n",
       "      <th>West Kazipara Mirpur Dhaka</th>\n",
       "      <th>West Mollartek Dakshin Khan Dhaka</th>\n",
       "      <th>West Monipur Mirpur Dhaka</th>\n",
       "      <th>West Nakhalpara Tejgaon Dhaka</th>\n",
       "      <th>West Rampura Rampura Dhaka</th>\n",
       "      <th>West Shewrapara Mirpur Dhaka</th>\n",
       "      <th>West Vatara Vatara Badda Dhaka</th>\n",
       "      <th>Zafrabad Hazaribag Dhaka</th>\n",
       "      <th>aziz Moholla Mohammadpur Dhaka</th>\n",
       "    </tr>\n",
       "  </thead>\n",
       "  <tbody>\n",
       "    <tr>\n",
       "      <th>0</th>\n",
       "      <td>800</td>\n",
       "      <td>2</td>\n",
       "      <td>2</td>\n",
       "      <td>1</td>\n",
       "      <td>0</td>\n",
       "      <td>0</td>\n",
       "      <td>0</td>\n",
       "      <td>0</td>\n",
       "      <td>0</td>\n",
       "      <td>0</td>\n",
       "      <td>...</td>\n",
       "      <td>0</td>\n",
       "      <td>0</td>\n",
       "      <td>0</td>\n",
       "      <td>0</td>\n",
       "      <td>0</td>\n",
       "      <td>0</td>\n",
       "      <td>0</td>\n",
       "      <td>0</td>\n",
       "      <td>0</td>\n",
       "      <td>0</td>\n",
       "    </tr>\n",
       "    <tr>\n",
       "      <th>1</th>\n",
       "      <td>700</td>\n",
       "      <td>2</td>\n",
       "      <td>2</td>\n",
       "      <td>1</td>\n",
       "      <td>0</td>\n",
       "      <td>0</td>\n",
       "      <td>0</td>\n",
       "      <td>0</td>\n",
       "      <td>0</td>\n",
       "      <td>0</td>\n",
       "      <td>...</td>\n",
       "      <td>0</td>\n",
       "      <td>0</td>\n",
       "      <td>0</td>\n",
       "      <td>0</td>\n",
       "      <td>0</td>\n",
       "      <td>0</td>\n",
       "      <td>0</td>\n",
       "      <td>0</td>\n",
       "      <td>0</td>\n",
       "      <td>0</td>\n",
       "    </tr>\n",
       "    <tr>\n",
       "      <th>2</th>\n",
       "      <td>1100</td>\n",
       "      <td>3</td>\n",
       "      <td>3</td>\n",
       "      <td>1</td>\n",
       "      <td>0</td>\n",
       "      <td>0</td>\n",
       "      <td>0</td>\n",
       "      <td>0</td>\n",
       "      <td>0</td>\n",
       "      <td>0</td>\n",
       "      <td>...</td>\n",
       "      <td>0</td>\n",
       "      <td>0</td>\n",
       "      <td>0</td>\n",
       "      <td>0</td>\n",
       "      <td>0</td>\n",
       "      <td>0</td>\n",
       "      <td>0</td>\n",
       "      <td>0</td>\n",
       "      <td>0</td>\n",
       "      <td>0</td>\n",
       "    </tr>\n",
       "    <tr>\n",
       "      <th>3</th>\n",
       "      <td>1100</td>\n",
       "      <td>3</td>\n",
       "      <td>3</td>\n",
       "      <td>1</td>\n",
       "      <td>0</td>\n",
       "      <td>0</td>\n",
       "      <td>0</td>\n",
       "      <td>0</td>\n",
       "      <td>0</td>\n",
       "      <td>0</td>\n",
       "      <td>...</td>\n",
       "      <td>0</td>\n",
       "      <td>0</td>\n",
       "      <td>0</td>\n",
       "      <td>0</td>\n",
       "      <td>0</td>\n",
       "      <td>0</td>\n",
       "      <td>0</td>\n",
       "      <td>0</td>\n",
       "      <td>0</td>\n",
       "      <td>0</td>\n",
       "    </tr>\n",
       "    <tr>\n",
       "      <th>4</th>\n",
       "      <td>1020</td>\n",
       "      <td>3</td>\n",
       "      <td>2</td>\n",
       "      <td>1</td>\n",
       "      <td>0</td>\n",
       "      <td>0</td>\n",
       "      <td>0</td>\n",
       "      <td>0</td>\n",
       "      <td>0</td>\n",
       "      <td>0</td>\n",
       "      <td>...</td>\n",
       "      <td>0</td>\n",
       "      <td>0</td>\n",
       "      <td>0</td>\n",
       "      <td>0</td>\n",
       "      <td>0</td>\n",
       "      <td>0</td>\n",
       "      <td>0</td>\n",
       "      <td>0</td>\n",
       "      <td>0</td>\n",
       "      <td>0</td>\n",
       "    </tr>\n",
       "  </tbody>\n",
       "</table>\n",
       "<p>5 rows × 418 columns</p>\n",
       "</div>"
      ],
      "text/plain": [
       "   Area  Bed  Bath  1st Colony Mirpur Dhaka  2nd Colony Mirpur Dhaka  \\\n",
       "0   800    2     2                        1                        0   \n",
       "1   700    2     2                        1                        0   \n",
       "2  1100    3     3                        1                        0   \n",
       "3  1100    3     3                        1                        0   \n",
       "4  1020    3     2                        1                        0   \n",
       "\n",
       "   3rd Colony Mirpur Dhaka  Aainusbag Dakshin Khan Dhaka  \\\n",
       "0                        0                             0   \n",
       "1                        0                             0   \n",
       "2                        0                             0   \n",
       "3                        0                             0   \n",
       "4                        0                             0   \n",
       "\n",
       "   Abdullahbag Uttar Badda Badda Dhaka  \\\n",
       "0                                    0   \n",
       "1                                    0   \n",
       "2                                    0   \n",
       "3                                    0   \n",
       "4                                    0   \n",
       "\n",
       "   Abdur Rafique Housing Society Shekhertek Mohammadpur Dhaka  Adabor Dhaka  \\\n",
       "0                                                  0                      0   \n",
       "1                                                  0                      0   \n",
       "2                                                  0                      0   \n",
       "3                                                  0                      0   \n",
       "4                                                  0                      0   \n",
       "\n",
       "   ...  West Kalachandpur Kalachandpur Dhaka  West Kazipara Mirpur Dhaka  \\\n",
       "0  ...                                     0                           0   \n",
       "1  ...                                     0                           0   \n",
       "2  ...                                     0                           0   \n",
       "3  ...                                     0                           0   \n",
       "4  ...                                     0                           0   \n",
       "\n",
       "   West Mollartek Dakshin Khan Dhaka  West Monipur Mirpur Dhaka  \\\n",
       "0                                  0                          0   \n",
       "1                                  0                          0   \n",
       "2                                  0                          0   \n",
       "3                                  0                          0   \n",
       "4                                  0                          0   \n",
       "\n",
       "   West Nakhalpara Tejgaon Dhaka  West Rampura Rampura Dhaka  \\\n",
       "0                              0                           0   \n",
       "1                              0                           0   \n",
       "2                              0                           0   \n",
       "3                              0                           0   \n",
       "4                              0                           0   \n",
       "\n",
       "   West Shewrapara Mirpur Dhaka  West Vatara Vatara Badda Dhaka  \\\n",
       "0                             0                               0   \n",
       "1                             0                               0   \n",
       "2                             0                               0   \n",
       "3                             0                               0   \n",
       "4                             0                               0   \n",
       "\n",
       "   Zafrabad Hazaribag Dhaka  aziz Moholla Mohammadpur Dhaka  \n",
       "0                         0                               0  \n",
       "1                         0                               0  \n",
       "2                         0                               0  \n",
       "3                         0                               0  \n",
       "4                         0                               0  \n",
       "\n",
       "[5 rows x 418 columns]"
      ]
     },
     "execution_count": 43,
     "metadata": {},
     "output_type": "execute_result"
    }
   ],
   "source": [
    "X = df5.drop(['Price','price_per_sqft'],axis='columns') #Had to drop 'price_per_sqft' because it was confusing the model and giving random negative predictions \n",
    "X.head()"
   ]
  },
  {
   "cell_type": "code",
   "execution_count": 44,
   "id": "fcce36cd",
   "metadata": {
    "execution": {
     "iopub.execute_input": "2022-08-05T12:47:42.903739Z",
     "iopub.status.busy": "2022-08-05T12:47:42.902991Z",
     "iopub.status.idle": "2022-08-05T12:47:42.911473Z",
     "shell.execute_reply": "2022-08-05T12:47:42.910379Z"
    },
    "id": "x_JyjbanFsEE",
    "outputId": "4d3a6e2b-a3ec-4968-ec4e-b3467d0c45a5",
    "papermill": {
     "duration": 0.03465,
     "end_time": "2022-08-05T12:47:42.913699",
     "exception": false,
     "start_time": "2022-08-05T12:47:42.879049",
     "status": "completed"
    },
    "tags": []
   },
   "outputs": [
    {
     "data": {
      "text/plain": [
       "0    13500.0\n",
       "1    12000.0\n",
       "2    20000.0\n",
       "3    20000.0\n",
       "4    15000.0\n",
       "Name: Price, dtype: float64"
      ]
     },
     "execution_count": 44,
     "metadata": {},
     "output_type": "execute_result"
    }
   ],
   "source": [
    "y = df5.Price\n",
    "y.head()"
   ]
  },
  {
   "cell_type": "code",
   "execution_count": 45,
   "id": "e87167d7",
   "metadata": {
    "execution": {
     "iopub.execute_input": "2022-08-05T12:47:42.958390Z",
     "iopub.status.busy": "2022-08-05T12:47:42.957742Z",
     "iopub.status.idle": "2022-08-05T12:47:43.018127Z",
     "shell.execute_reply": "2022-08-05T12:47:43.016932Z"
    },
    "id": "FwEc9yC_FsEE",
    "papermill": {
     "duration": 0.086043,
     "end_time": "2022-08-05T12:47:43.020923",
     "exception": false,
     "start_time": "2022-08-05T12:47:42.934880",
     "status": "completed"
    },
    "tags": []
   },
   "outputs": [],
   "source": [
    "X_train, X_test, y_train, y_test = train_test_split(X,y,test_size=0.25,random_state=15)"
   ]
  },
  {
   "cell_type": "markdown",
   "id": "b5fdbc90",
   "metadata": {
    "id": "Wzw5smVDI0I5",
    "papermill": {
     "duration": 0.020949,
     "end_time": "2022-08-05T12:47:43.063096",
     "exception": false,
     "start_time": "2022-08-05T12:47:43.042147",
     "status": "completed"
    },
    "tags": []
   },
   "source": [
    "# Linear Regression"
   ]
  },
  {
   "cell_type": "code",
   "execution_count": 46,
   "id": "1a02e75b",
   "metadata": {
    "execution": {
     "iopub.execute_input": "2022-08-05T12:47:43.108698Z",
     "iopub.status.busy": "2022-08-05T12:47:43.107872Z",
     "iopub.status.idle": "2022-08-05T12:47:43.995447Z",
     "shell.execute_reply": "2022-08-05T12:47:43.994131Z"
    },
    "id": "n6DAmBywFsEE",
    "outputId": "6bcd7bba-5ebc-442d-d945-7eca1203e21d",
    "papermill": {
     "duration": 0.925018,
     "end_time": "2022-08-05T12:47:44.009182",
     "exception": false,
     "start_time": "2022-08-05T12:47:43.084164",
     "status": "completed"
    },
    "tags": []
   },
   "outputs": [
    {
     "name": "stdout",
     "output_type": "stream",
     "text": [
      "91.49\n"
     ]
    }
   ],
   "source": [
    "lr_clf = LinearRegression()\n",
    "lr_clf.fit(X_train,y_train)\n",
    "p = lr_clf.score(X_test,y_test)\n",
    "print(\"%.2f\" % (p*100))"
   ]
  },
  {
   "cell_type": "code",
   "execution_count": 47,
   "id": "58a9bbd5",
   "metadata": {
    "execution": {
     "iopub.execute_input": "2022-08-05T12:47:44.115671Z",
     "iopub.status.busy": "2022-08-05T12:47:44.115220Z",
     "iopub.status.idle": "2022-08-05T12:47:47.161639Z",
     "shell.execute_reply": "2022-08-05T12:47:47.160108Z"
    },
    "id": "w8P1DPl3FsEF",
    "outputId": "4ae47215-7068-413c-f884-d725efc8f94d",
    "papermill": {
     "duration": 3.095023,
     "end_time": "2022-08-05T12:47:47.166739",
     "exception": false,
     "start_time": "2022-08-05T12:47:44.071716",
     "status": "completed"
    },
    "tags": []
   },
   "outputs": [
    {
     "data": {
      "text/plain": [
       "array([0.90588914, 0.90347762, 0.89696636, 0.91398475, 0.89820549])"
      ]
     },
     "execution_count": 47,
     "metadata": {},
     "output_type": "execute_result"
    }
   ],
   "source": [
    "cv = ShuffleSplit(n_splits=5, test_size=0.25, random_state=10)\n",
    "\n",
    "cross_val_score(LinearRegression(), X, y, cv=cv)"
   ]
  },
  {
   "cell_type": "markdown",
   "id": "4ed49423",
   "metadata": {
    "id": "9Nx181A5IsiI",
    "papermill": {
     "duration": 0.03793,
     "end_time": "2022-08-05T12:47:47.280509",
     "exception": false,
     "start_time": "2022-08-05T12:47:47.242579",
     "status": "completed"
    },
    "tags": []
   },
   "source": [
    "# Ridge Regression"
   ]
  },
  {
   "cell_type": "code",
   "execution_count": 48,
   "id": "983dfdd5",
   "metadata": {
    "execution": {
     "iopub.execute_input": "2022-08-05T12:47:47.326042Z",
     "iopub.status.busy": "2022-08-05T12:47:47.325607Z",
     "iopub.status.idle": "2022-08-05T12:47:47.532122Z",
     "shell.execute_reply": "2022-08-05T12:47:47.530613Z"
    },
    "id": "-sI6w8fNFsEF",
    "outputId": "70d02e36-8daa-422d-f2c0-5994b2e1e5ad",
    "papermill": {
     "duration": 0.236056,
     "end_time": "2022-08-05T12:47:47.537999",
     "exception": false,
     "start_time": "2022-08-05T12:47:47.301943",
     "status": "completed"
    },
    "tags": []
   },
   "outputs": [
    {
     "name": "stdout",
     "output_type": "stream",
     "text": [
      "91.54\n"
     ]
    }
   ],
   "source": [
    "from sklearn.linear_model import Ridge\n",
    "rdg_clf = Ridge(alpha=1.0)\n",
    "rdg_clf.fit(X_train,y_train)\n",
    "p = rdg_clf.score(X_test,y_test)\n",
    "print(\"%.2f\" % (p*100))"
   ]
  },
  {
   "cell_type": "code",
   "execution_count": 49,
   "id": "afaa0689",
   "metadata": {
    "execution": {
     "iopub.execute_input": "2022-08-05T12:47:47.661026Z",
     "iopub.status.busy": "2022-08-05T12:47:47.659791Z",
     "iopub.status.idle": "2022-08-05T12:47:49.411948Z",
     "shell.execute_reply": "2022-08-05T12:47:49.410202Z"
    },
    "id": "reW8M88_FsEF",
    "outputId": "dbc736e6-80dc-4124-dff0-03736cf20d33",
    "papermill": {
     "duration": 1.796065,
     "end_time": "2022-08-05T12:47:49.416285",
     "exception": false,
     "start_time": "2022-08-05T12:47:47.620220",
     "status": "completed"
    },
    "tags": []
   },
   "outputs": [
    {
     "data": {
      "text/plain": [
       "array([0.90683718, 0.90336858, 0.89706706, 0.91393935, 0.89846565])"
      ]
     },
     "execution_count": 49,
     "metadata": {},
     "output_type": "execute_result"
    }
   ],
   "source": [
    "cv = ShuffleSplit(n_splits=5, test_size=0.25, random_state=10)\n",
    "\n",
    "cross_val_score(Ridge(), X, y, cv=cv)"
   ]
  },
  {
   "cell_type": "markdown",
   "id": "caa7bd45",
   "metadata": {
    "id": "eQd_RcDyIho-",
    "papermill": {
     "duration": 0.032765,
     "end_time": "2022-08-05T12:47:49.537881",
     "exception": false,
     "start_time": "2022-08-05T12:47:49.505116",
     "status": "completed"
    },
    "tags": []
   },
   "source": [
    "# Bayesian Regression "
   ]
  },
  {
   "cell_type": "code",
   "execution_count": 50,
   "id": "5e0b81b1",
   "metadata": {
    "execution": {
     "iopub.execute_input": "2022-08-05T12:47:49.583533Z",
     "iopub.status.busy": "2022-08-05T12:47:49.583141Z",
     "iopub.status.idle": "2022-08-05T12:47:50.634848Z",
     "shell.execute_reply": "2022-08-05T12:47:50.633238Z"
    },
    "id": "rDUef-ZHFsEG",
    "outputId": "660e582c-0a4b-4512-d690-673229bf0ad4",
    "papermill": {
     "duration": 1.081834,
     "end_time": "2022-08-05T12:47:50.641747",
     "exception": false,
     "start_time": "2022-08-05T12:47:49.559913",
     "status": "completed"
    },
    "tags": []
   },
   "outputs": [
    {
     "name": "stdout",
     "output_type": "stream",
     "text": [
      "91.52\n"
     ]
    }
   ],
   "source": [
    "from sklearn import linear_model\n",
    "br_clf = linear_model.BayesianRidge()\n",
    "br_clf.fit(X_train,y_train)\n",
    "p = br_clf.score(X_test,y_test)\n",
    "print(\"%.2f\" % (p*100))"
   ]
  },
  {
   "cell_type": "code",
   "execution_count": 51,
   "id": "149d2488",
   "metadata": {
    "execution": {
     "iopub.execute_input": "2022-08-05T12:47:50.754930Z",
     "iopub.status.busy": "2022-08-05T12:47:50.753724Z",
     "iopub.status.idle": "2022-08-05T12:47:55.873646Z",
     "shell.execute_reply": "2022-08-05T12:47:55.872100Z"
    },
    "id": "uVuCDbEGFsEG",
    "outputId": "8428b573-eac3-4487-a49e-a8487c210489",
    "papermill": {
     "duration": 5.179594,
     "end_time": "2022-08-05T12:47:55.878730",
     "exception": false,
     "start_time": "2022-08-05T12:47:50.699136",
     "status": "completed"
    },
    "tags": []
   },
   "outputs": [
    {
     "data": {
      "text/plain": [
       "array([0.90635946, 0.90351694, 0.89707026, 0.91405138, 0.89836828])"
      ]
     },
     "execution_count": 51,
     "metadata": {},
     "output_type": "execute_result"
    }
   ],
   "source": [
    "cv = ShuffleSplit(n_splits=5, test_size=0.25, random_state=10)\n",
    "\n",
    "cross_val_score(linear_model.BayesianRidge(), X, y, cv=cv)"
   ]
  },
  {
   "cell_type": "markdown",
   "id": "7f92d147",
   "metadata": {
    "id": "ps-nT4v2IYO2",
    "papermill": {
     "duration": 0.049873,
     "end_time": "2022-08-05T12:47:55.986021",
     "exception": false,
     "start_time": "2022-08-05T12:47:55.936148",
     "status": "completed"
    },
    "tags": []
   },
   "source": [
    "# Lasso Regression"
   ]
  },
  {
   "cell_type": "code",
   "execution_count": 52,
   "id": "103747ad",
   "metadata": {
    "execution": {
     "iopub.execute_input": "2022-08-05T12:47:56.031264Z",
     "iopub.status.busy": "2022-08-05T12:47:56.030864Z",
     "iopub.status.idle": "2022-08-05T12:47:57.141799Z",
     "shell.execute_reply": "2022-08-05T12:47:57.139158Z"
    },
    "id": "YyYQDrgEFsEG",
    "outputId": "be069724-db91-49fd-9d74-cd9c173e028b",
    "papermill": {
     "duration": 1.139354,
     "end_time": "2022-08-05T12:47:57.147108",
     "exception": false,
     "start_time": "2022-08-05T12:47:56.007754",
     "status": "completed"
    },
    "tags": []
   },
   "outputs": [
    {
     "name": "stdout",
     "output_type": "stream",
     "text": [
      "91.49\n"
     ]
    }
   ],
   "source": [
    "from sklearn.linear_model import Lasso\n",
    "las_clf = Lasso(alpha=0.1)\n",
    "las_clf.fit(X_train,y_train)\n",
    "p = las_clf.score(X_test,y_test)\n",
    "print(\"%.2f\" % (p*100))"
   ]
  },
  {
   "cell_type": "code",
   "execution_count": 53,
   "id": "e1155864",
   "metadata": {
    "execution": {
     "iopub.execute_input": "2022-08-05T12:47:57.266007Z",
     "iopub.status.busy": "2022-08-05T12:47:57.265544Z",
     "iopub.status.idle": "2022-08-05T12:48:00.736384Z",
     "shell.execute_reply": "2022-08-05T12:48:00.734772Z"
    },
    "id": "6h2F9NV5FsEH",
    "outputId": "241d7e37-ebea-417e-fada-69694a3e222e",
    "papermill": {
     "duration": 3.514222,
     "end_time": "2022-08-05T12:48:00.741975",
     "exception": false,
     "start_time": "2022-08-05T12:47:57.227753",
     "status": "completed"
    },
    "tags": []
   },
   "outputs": [
    {
     "data": {
      "text/plain": [
       "array([0.90524293, 0.90280499, 0.89606376, 0.91340253, 0.89731934])"
      ]
     },
     "execution_count": 53,
     "metadata": {},
     "output_type": "execute_result"
    }
   ],
   "source": [
    "cv = ShuffleSplit(n_splits=5, test_size=0.25, random_state=10)\n",
    "\n",
    "cross_val_score(Lasso(), X, y, cv=cv)"
   ]
  },
  {
   "cell_type": "markdown",
   "id": "c2e318d8",
   "metadata": {
    "id": "XUZvDreHF2iY",
    "papermill": {
     "duration": 0.033259,
     "end_time": "2022-08-05T12:48:00.850498",
     "exception": false,
     "start_time": "2022-08-05T12:48:00.817239",
     "status": "completed"
    },
    "tags": []
   },
   "source": [
    "# Lets test how well the model works "
   ]
  },
  {
   "cell_type": "code",
   "execution_count": 54,
   "id": "f81481b6",
   "metadata": {
    "execution": {
     "iopub.execute_input": "2022-08-05T12:48:00.896396Z",
     "iopub.status.busy": "2022-08-05T12:48:00.896019Z",
     "iopub.status.idle": "2022-08-05T12:48:00.902695Z",
     "shell.execute_reply": "2022-08-05T12:48:00.901510Z"
    },
    "id": "s6TREJsgFsEH",
    "papermill": {
     "duration": 0.032341,
     "end_time": "2022-08-05T12:48:00.905021",
     "exception": false,
     "start_time": "2022-08-05T12:48:00.872680",
     "status": "completed"
    },
    "tags": []
   },
   "outputs": [],
   "source": [
    "def predict_price(Location,Area,Bed,Bath):    \n",
    "    index = np.where(X.columns == Location)[0][0]\n",
    "\n",
    "    x = np.zeros(len(X.columns))\n",
    "    x[0] = Area\n",
    "    x[1] = Bed\n",
    "    x[2] = Bath\n",
    "    if index >= 0:\n",
    "        x[index] = 1\n",
    "\n",
    "    return rdg_clf.predict([x])[0] #Ridge Regression got the best accuracy "
   ]
  },
  {
   "cell_type": "code",
   "execution_count": 55,
   "id": "699e1cbf",
   "metadata": {
    "execution": {
     "iopub.execute_input": "2022-08-05T12:48:00.951143Z",
     "iopub.status.busy": "2022-08-05T12:48:00.950745Z",
     "iopub.status.idle": "2022-08-05T12:48:00.962234Z",
     "shell.execute_reply": "2022-08-05T12:48:00.960650Z"
    },
    "id": "aV7sSBd0FsEI",
    "outputId": "120800dd-2fb4-4553-91a5-92cdf18e63e8",
    "papermill": {
     "duration": 0.038064,
     "end_time": "2022-08-05T12:48:00.964996",
     "exception": false,
     "start_time": "2022-08-05T12:48:00.926932",
     "status": "completed"
    },
    "tags": []
   },
   "outputs": [
    {
     "name": "stderr",
     "output_type": "stream",
     "text": [
      "/opt/conda/lib/python3.7/site-packages/sklearn/base.py:451: UserWarning: X does not have valid feature names, but Ridge was fitted with feature names\n",
      "  \"X does not have valid feature names, but\"\n"
     ]
    },
    {
     "data": {
      "text/plain": [
       "17928.24219175511"
      ]
     },
     "execution_count": 55,
     "metadata": {},
     "output_type": "execute_result"
    }
   ],
   "source": [
    "#My family used to live in this area in a 1100 sqft appertment with 3 beds and 3 baths. And the rent was 16500 Taka\n",
    "predict_price('Matikata Cantonment Dhaka',1250, 3, 3)"
   ]
  },
  {
   "cell_type": "code",
   "execution_count": 56,
   "id": "a7577274",
   "metadata": {
    "execution": {
     "iopub.execute_input": "2022-08-05T12:48:01.033898Z",
     "iopub.status.busy": "2022-08-05T12:48:01.032625Z",
     "iopub.status.idle": "2022-08-05T12:48:01.042686Z",
     "shell.execute_reply": "2022-08-05T12:48:01.040975Z"
    },
    "id": "XFDlCgh-FsEI",
    "outputId": "794ba385-0912-43f8-9ef9-7d3deb343a32",
    "papermill": {
     "duration": 0.050308,
     "end_time": "2022-08-05T12:48:01.045988",
     "exception": false,
     "start_time": "2022-08-05T12:48:00.995680",
     "status": "completed"
    },
    "tags": []
   },
   "outputs": [
    {
     "name": "stderr",
     "output_type": "stream",
     "text": [
      "/opt/conda/lib/python3.7/site-packages/sklearn/base.py:451: UserWarning: X does not have valid feature names, but Ridge was fitted with feature names\n",
      "  \"X does not have valid feature names, but\"\n"
     ]
    },
    {
     "data": {
      "text/plain": [
       "20815.46440534888"
      ]
     },
     "execution_count": 56,
     "metadata": {},
     "output_type": "execute_result"
    }
   ],
   "source": [
    "predict_price('Mirpur Dhaka',1250, 3, 3)"
   ]
  },
  {
   "cell_type": "code",
   "execution_count": 57,
   "id": "ee180866",
   "metadata": {
    "execution": {
     "iopub.execute_input": "2022-08-05T12:48:01.101826Z",
     "iopub.status.busy": "2022-08-05T12:48:01.101076Z",
     "iopub.status.idle": "2022-08-05T12:48:01.108904Z",
     "shell.execute_reply": "2022-08-05T12:48:01.107637Z"
    },
    "id": "MREjc0qOFsEI",
    "outputId": "ff9f7de6-f34a-46ab-e08f-465464ad4f4e",
    "papermill": {
     "duration": 0.036418,
     "end_time": "2022-08-05T12:48:01.111266",
     "exception": false,
     "start_time": "2022-08-05T12:48:01.074848",
     "status": "completed"
    },
    "tags": []
   },
   "outputs": [
    {
     "name": "stderr",
     "output_type": "stream",
     "text": [
      "/opt/conda/lib/python3.7/site-packages/sklearn/base.py:451: UserWarning: X does not have valid feature names, but Ridge was fitted with feature names\n",
      "  \"X does not have valid feature names, but\"\n"
     ]
    },
    {
     "data": {
      "text/plain": [
       "103770.06847910122"
      ]
     },
     "execution_count": 57,
     "metadata": {},
     "output_type": "execute_result"
    }
   ],
   "source": [
    "predict_price('Gulshan 2 Gulshan Dhaka',2000, 3, 3)"
   ]
  },
  {
   "cell_type": "code",
   "execution_count": 58,
   "id": "4f265450",
   "metadata": {
    "execution": {
     "iopub.execute_input": "2022-08-05T12:48:01.159067Z",
     "iopub.status.busy": "2022-08-05T12:48:01.157876Z",
     "iopub.status.idle": "2022-08-05T12:48:01.166038Z",
     "shell.execute_reply": "2022-08-05T12:48:01.164818Z"
    },
    "id": "Fxw1MKi8FsEI",
    "outputId": "f3e6eab5-64a1-4cdb-e896-6c1660e769d2",
    "papermill": {
     "duration": 0.034001,
     "end_time": "2022-08-05T12:48:01.168287",
     "exception": false,
     "start_time": "2022-08-05T12:48:01.134286",
     "status": "completed"
    },
    "tags": []
   },
   "outputs": [
    {
     "name": "stderr",
     "output_type": "stream",
     "text": [
      "/opt/conda/lib/python3.7/site-packages/sklearn/base.py:451: UserWarning: X does not have valid feature names, but Ridge was fitted with feature names\n",
      "  \"X does not have valid feature names, but\"\n"
     ]
    },
    {
     "data": {
      "text/plain": [
       "21299.938832353593"
      ]
     },
     "execution_count": 58,
     "metadata": {},
     "output_type": "execute_result"
    }
   ],
   "source": [
    "predict_price('Badda Dhaka',1000, 2, 2)"
   ]
  }
 ],
 "metadata": {
  "kernelspec": {
   "display_name": "Python 3",
   "language": "python",
   "name": "python3"
  },
  "language_info": {
   "codemirror_mode": {
    "name": "ipython",
    "version": 3
   },
   "file_extension": ".py",
   "mimetype": "text/x-python",
   "name": "python",
   "nbconvert_exporter": "python",
   "pygments_lexer": "ipython3",
   "version": "3.7.12"
  },
  "papermill": {
   "default_parameters": {},
   "duration": 33.322666,
   "end_time": "2022-08-05T12:48:01.912717",
   "environment_variables": {},
   "exception": null,
   "input_path": "__notebook__.ipynb",
   "output_path": "__notebook__.ipynb",
   "parameters": {},
   "start_time": "2022-08-05T12:47:28.590051",
   "version": "2.3.4"
  }
 },
 "nbformat": 4,
 "nbformat_minor": 5
}
